{
 "cells": [
  {
   "cell_type": "code",
   "execution_count": 1,
   "id": "e58a9356-f904-466d-b218-159b0c3865f1",
   "metadata": {},
   "outputs": [],
   "source": [
    "import pandas as pd\n",
    "import matplotlib.pyplot as plt"
   ]
  },
  {
   "cell_type": "code",
   "execution_count": 2,
   "id": "303e597e-a462-41c6-81ed-4ba12bd34d35",
   "metadata": {},
   "outputs": [],
   "source": [
    "app_data = pd.read_csv(\n",
    "    \"./data/lsapp.tsv.gz\",\n",
    "    sep=\"\\t\",\n",
    "    names=[\"user_id\", \"session_id\", \"timestamp\", \"app_name\", \"event_type\"],\n",
    "    parse_dates=[\"timestamp\"],\n",
    "    skiprows=1)\n",
    "    "
   ]
  },
  {
   "cell_type": "code",
   "execution_count": 3,
   "id": "b3dbb2b5-e92b-4235-ad60-2fce619b08ba",
   "metadata": {},
   "outputs": [
    {
     "data": {
      "text/plain": [
       "(3658590, 5)"
      ]
     },
     "execution_count": 3,
     "metadata": {},
     "output_type": "execute_result"
    }
   ],
   "source": [
    "app_data.shape"
   ]
  },
  {
   "cell_type": "code",
   "execution_count": 4,
   "id": "ce67990e-5d87-4e0e-a320-a49b86302e07",
   "metadata": {
    "scrolled": true
   },
   "outputs": [
    {
     "data": {
      "text/html": [
       "<div>\n",
       "<style scoped>\n",
       "    .dataframe tbody tr th:only-of-type {\n",
       "        vertical-align: middle;\n",
       "    }\n",
       "\n",
       "    .dataframe tbody tr th {\n",
       "        vertical-align: top;\n",
       "    }\n",
       "\n",
       "    .dataframe thead th {\n",
       "        text-align: right;\n",
       "    }\n",
       "</style>\n",
       "<table border=\"1\" class=\"dataframe\">\n",
       "  <thead>\n",
       "    <tr style=\"text-align: right;\">\n",
       "      <th></th>\n",
       "      <th>user_id</th>\n",
       "      <th>session_id</th>\n",
       "      <th>timestamp</th>\n",
       "      <th>app_name</th>\n",
       "      <th>event_type</th>\n",
       "    </tr>\n",
       "  </thead>\n",
       "  <tbody>\n",
       "    <tr>\n",
       "      <th>0</th>\n",
       "      <td>0.0</td>\n",
       "      <td>1.0</td>\n",
       "      <td>2018-01-16 06:01:05</td>\n",
       "      <td>Minesweeper Classic (Mines)</td>\n",
       "      <td>Opened</td>\n",
       "    </tr>\n",
       "    <tr>\n",
       "      <th>1</th>\n",
       "      <td>0.0</td>\n",
       "      <td>1.0</td>\n",
       "      <td>2018-01-16 06:01:05</td>\n",
       "      <td>Minesweeper Classic (Mines)</td>\n",
       "      <td>Closed</td>\n",
       "    </tr>\n",
       "    <tr>\n",
       "      <th>2</th>\n",
       "      <td>0.0</td>\n",
       "      <td>1.0</td>\n",
       "      <td>2018-01-16 06:01:07</td>\n",
       "      <td>Minesweeper Classic (Mines)</td>\n",
       "      <td>Opened</td>\n",
       "    </tr>\n",
       "    <tr>\n",
       "      <th>3</th>\n",
       "      <td>0.0</td>\n",
       "      <td>1.0</td>\n",
       "      <td>2018-01-16 06:01:07</td>\n",
       "      <td>Minesweeper Classic (Mines)</td>\n",
       "      <td>Closed</td>\n",
       "    </tr>\n",
       "    <tr>\n",
       "      <th>4</th>\n",
       "      <td>0.0</td>\n",
       "      <td>1.0</td>\n",
       "      <td>2018-01-16 06:01:08</td>\n",
       "      <td>Minesweeper Classic (Mines)</td>\n",
       "      <td>Opened</td>\n",
       "    </tr>\n",
       "  </tbody>\n",
       "</table>\n",
       "</div>"
      ],
      "text/plain": [
       "   user_id  session_id           timestamp                     app_name  \\\n",
       "0      0.0         1.0 2018-01-16 06:01:05  Minesweeper Classic (Mines)   \n",
       "1      0.0         1.0 2018-01-16 06:01:05  Minesweeper Classic (Mines)   \n",
       "2      0.0         1.0 2018-01-16 06:01:07  Minesweeper Classic (Mines)   \n",
       "3      0.0         1.0 2018-01-16 06:01:07  Minesweeper Classic (Mines)   \n",
       "4      0.0         1.0 2018-01-16 06:01:08  Minesweeper Classic (Mines)   \n",
       "\n",
       "  event_type  \n",
       "0     Opened  \n",
       "1     Closed  \n",
       "2     Opened  \n",
       "3     Closed  \n",
       "4     Opened  "
      ]
     },
     "execution_count": 4,
     "metadata": {},
     "output_type": "execute_result"
    }
   ],
   "source": [
    "app_data.head()"
   ]
  },
  {
   "cell_type": "markdown",
   "id": "6f74eb64-5e21-4b43-9b9c-745e58a3ede7",
   "metadata": {},
   "source": [
    "### Check the missing values in each feature (column)"
   ]
  },
  {
   "cell_type": "code",
   "execution_count": 7,
   "id": "ed96e613-fc75-4427-8572-73ba1c3abb01",
   "metadata": {},
   "outputs": [
    {
     "data": {
      "text/plain": [
       "user_id       1\n",
       "session_id    1\n",
       "timestamp     1\n",
       "app_name      1\n",
       "event_type    1\n",
       "dtype: int64"
      ]
     },
     "execution_count": 7,
     "metadata": {},
     "output_type": "execute_result"
    }
   ],
   "source": [
    "app_data.isnull().sum()"
   ]
  },
  {
   "cell_type": "markdown",
   "id": "e1f5c321-d6ba-407b-a1f4-b127aeef4ef7",
   "metadata": {},
   "source": [
    "### Drop the missing value records"
   ]
  },
  {
   "cell_type": "code",
   "execution_count": 8,
   "id": "c53ce3de-4e67-4d39-86f8-5b199bf6ad31",
   "metadata": {},
   "outputs": [],
   "source": [
    "app_data = app_data.dropna()"
   ]
  },
  {
   "cell_type": "code",
   "execution_count": 9,
   "id": "f4005c57-39b9-41a2-b4ce-7fe68d91eb84",
   "metadata": {},
   "outputs": [
    {
     "data": {
      "text/plain": [
       "user_id                int32\n",
       "session_id             int32\n",
       "timestamp     datetime64[ns]\n",
       "app_name              object\n",
       "event_type            object\n",
       "dtype: object"
      ]
     },
     "execution_count": 9,
     "metadata": {},
     "output_type": "execute_result"
    }
   ],
   "source": [
    "app_data[\"user_id\"] = app_data[\"user_id\"].astype(int)\n",
    "app_data[\"session_id\"] = app_data[\"session_id\"].astype(int)\n",
    "\n",
    "app_data.dtypes"
   ]
  },
  {
   "cell_type": "code",
   "execution_count": 10,
   "id": "bd3fda33-922c-478a-960b-a0f3b91f2d58",
   "metadata": {},
   "outputs": [
    {
     "data": {
      "text/plain": [
       "event_type\n",
       "Opened              0.457351\n",
       "Closed              0.455644\n",
       "User Interaction    0.085779\n",
       "Broken              0.001226\n",
       "Name: proportion, dtype: float64"
      ]
     },
     "execution_count": 10,
     "metadata": {},
     "output_type": "execute_result"
    }
   ],
   "source": [
    "app_data[\"event_type\"].value_counts(normalize=True)  # percentage of events in dataset"
   ]
  },
  {
   "cell_type": "code",
   "execution_count": 11,
   "id": "6ae580a0-aaa9-4e02-a43c-d10f27b23ee1",
   "metadata": {},
   "outputs": [],
   "source": [
    "app_data = app_data[app_data[\"event_type\"] != \"Broken\"]  # drop a 'Broken' event"
   ]
  },
  {
   "cell_type": "code",
   "execution_count": 12,
   "id": "c54084d0-7991-4049-ba5f-7db01524e117",
   "metadata": {},
   "outputs": [
    {
     "data": {
      "text/plain": [
       "event_type\n",
       "Opened              0.457913\n",
       "Closed              0.456203\n",
       "User Interaction    0.085884\n",
       "Name: proportion, dtype: float64"
      ]
     },
     "execution_count": 12,
     "metadata": {},
     "output_type": "execute_result"
    }
   ],
   "source": [
    "app_data[\"event_type\"].value_counts(normalize=True)"
   ]
  },
  {
   "cell_type": "code",
   "execution_count": 13,
   "id": "67390691-8de6-4339-acd5-52513169ebd5",
   "metadata": {},
   "outputs": [
    {
     "data": {
      "text/plain": [
       "292"
      ]
     },
     "execution_count": 13,
     "metadata": {},
     "output_type": "execute_result"
    }
   ],
   "source": [
    "app_data[\"user_id\"].nunique()  # number of unique users"
   ]
  },
  {
   "cell_type": "code",
   "execution_count": 14,
   "id": "50852313-2a36-4d0c-88e5-a419625fa20c",
   "metadata": {},
   "outputs": [
    {
     "data": {
      "text/plain": [
       "87"
      ]
     },
     "execution_count": 14,
     "metadata": {},
     "output_type": "execute_result"
    }
   ],
   "source": [
    "app_data[\"app_name\"].nunique()  # number of unique apps"
   ]
  },
  {
   "cell_type": "code",
   "execution_count": 15,
   "id": "21157c7b-97fc-4b11-afcf-53575da48a64",
   "metadata": {
    "scrolled": true
   },
   "outputs": [
    {
     "data": {
      "text/plain": [
       "min   2017-09-09 17:16:06\n",
       "max   2018-05-17 08:42:29\n",
       "Name: timestamp, dtype: datetime64[ns]"
      ]
     },
     "execution_count": 15,
     "metadata": {},
     "output_type": "execute_result"
    }
   ],
   "source": [
    "app_data[\"timestamp\"].agg([\"min\", \"max\"])  # date range "
   ]
  },
  {
   "cell_type": "markdown",
   "id": "735f12a9-e083-4080-85ec-a23c46bb828d",
   "metadata": {},
   "source": [
    "### How many unique sessions for each user?"
   ]
  },
  {
   "cell_type": "code",
   "execution_count": 16,
   "id": "129642dd-f3ca-4158-b624-4809fc48c0cf",
   "metadata": {},
   "outputs": [],
   "source": [
    "sessions_per_user = (\n",
    "    app_data\n",
    "    .groupby(\"user_id\")[\"session_id\"].nunique()\n",
    ")"
   ]
  },
  {
   "cell_type": "code",
   "execution_count": 17,
   "id": "4ef6381f-c647-4bbf-8b10-89f0dd724910",
   "metadata": {},
   "outputs": [
    {
     "data": {
      "text/plain": [
       "user_id\n",
       "0       241\n",
       "1        88\n",
       "2        62\n",
       "3        72\n",
       "4        45\n",
       "       ... \n",
       "287      72\n",
       "288       3\n",
       "289     232\n",
       "290    3284\n",
       "291      97\n",
       "Name: session_id, Length: 292, dtype: int64"
      ]
     },
     "execution_count": 17,
     "metadata": {},
     "output_type": "execute_result"
    }
   ],
   "source": [
    "sessions_per_user"
   ]
  },
  {
   "cell_type": "code",
   "execution_count": 18,
   "id": "a6b1ba10-a225-49aa-94c1-898fc4e54f14",
   "metadata": {},
   "outputs": [
    {
     "data": {
      "text/plain": [
       "count     292.000000\n",
       "mean      261.113014\n",
       "std       484.984555\n",
       "min         1.000000\n",
       "25%        45.750000\n",
       "50%        95.500000\n",
       "75%       289.000000\n",
       "max      5153.000000\n",
       "Name: session_id, dtype: float64"
      ]
     },
     "execution_count": 18,
     "metadata": {},
     "output_type": "execute_result"
    }
   ],
   "source": [
    "sessions_per_user.describe()"
   ]
  },
  {
   "cell_type": "code",
   "execution_count": 19,
   "id": "fcc1b3a6-d6a4-4da0-8574-fb5ae5e75b52",
   "metadata": {},
   "outputs": [
    {
     "data": {
      "image/png": "[encoded data removed]",
      "text/plain": [
       "<Figure size 640x480 with 1 Axes>"
      ]
     },
     "metadata": {},
     "output_type": "display_data"
    }
   ],
   "source": [
    "fig, axis = plt.subplots()\n",
    "\n",
    "_ = sessions_per_user.hist(bins=20, ax=axis)\n",
    "\n",
    "_ = axis.set(title=\"Sessions per user\",\n",
    "             xlabel=\"Number of sessions\",\n",
    "             ylabel=\"Frequency\"\n",
    "            )\n",
    "\n",
    "plt.savefig(\"sessions_per_user.png\")\n",
    "plt.show()"
   ]
  },
  {
   "cell_type": "markdown",
   "id": "379a277f-c18f-4e94-b95b-dd85153ff7f1",
   "metadata": {},
   "source": [
    "### Look for top users with the highest number of sessions"
   ]
  },
  {
   "cell_type": "code",
   "execution_count": 20,
   "id": "708dd548-3f40-49f9-93d9-2c72592e24f1",
   "metadata": {
    "scrolled": true
   },
   "outputs": [
    {
     "data": {
      "text/plain": [
       "user_id\n",
       "138    5153\n",
       "290    3284\n",
       "192    2763\n",
       "31     1885\n",
       "204    1851\n",
       "Name: session_id, dtype: int64"
      ]
     },
     "execution_count": 20,
     "metadata": {},
     "output_type": "execute_result"
    }
   ],
   "source": [
    "sessions_per_user.sort_values(ascending=False).head(5)"
   ]
  },
  {
   "cell_type": "code",
   "execution_count": 21,
   "id": "4942f11f-22fc-414b-b4c9-a6842c35d68d",
   "metadata": {},
   "outputs": [
    {
     "data": {
      "text/html": [
       "<div>\n",
       "<style scoped>\n",
       "    .dataframe tbody tr th:only-of-type {\n",
       "        vertical-align: middle;\n",
       "    }\n",
       "\n",
       "    .dataframe tbody tr th {\n",
       "        vertical-align: top;\n",
       "    }\n",
       "\n",
       "    .dataframe thead th {\n",
       "        text-align: right;\n",
       "    }\n",
       "</style>\n",
       "<table border=\"1\" class=\"dataframe\">\n",
       "  <thead>\n",
       "    <tr style=\"text-align: right;\">\n",
       "      <th></th>\n",
       "      <th>user_id</th>\n",
       "      <th>session_id</th>\n",
       "      <th>timestamp</th>\n",
       "      <th>app_name</th>\n",
       "      <th>event_type</th>\n",
       "    </tr>\n",
       "  </thead>\n",
       "  <tbody>\n",
       "    <tr>\n",
       "      <th>1782158</th>\n",
       "      <td>138</td>\n",
       "      <td>28802</td>\n",
       "      <td>2018-01-04 05:21:59</td>\n",
       "      <td>Phone</td>\n",
       "      <td>Opened</td>\n",
       "    </tr>\n",
       "    <tr>\n",
       "      <th>1782159</th>\n",
       "      <td>138</td>\n",
       "      <td>28802</td>\n",
       "      <td>2018-01-04 05:21:59</td>\n",
       "      <td>Phone</td>\n",
       "      <td>Closed</td>\n",
       "    </tr>\n",
       "    <tr>\n",
       "      <th>1782160</th>\n",
       "      <td>138</td>\n",
       "      <td>28802</td>\n",
       "      <td>2018-01-04 05:21:59</td>\n",
       "      <td>Phone</td>\n",
       "      <td>Opened</td>\n",
       "    </tr>\n",
       "    <tr>\n",
       "      <th>1782161</th>\n",
       "      <td>138</td>\n",
       "      <td>28802</td>\n",
       "      <td>2018-01-04 05:22:25</td>\n",
       "      <td>Phone</td>\n",
       "      <td>Closed</td>\n",
       "    </tr>\n",
       "    <tr>\n",
       "      <th>1782162</th>\n",
       "      <td>138</td>\n",
       "      <td>28802</td>\n",
       "      <td>2018-01-04 05:22:26</td>\n",
       "      <td>Telegram</td>\n",
       "      <td>User Interaction</td>\n",
       "    </tr>\n",
       "    <tr>\n",
       "      <th>1782163</th>\n",
       "      <td>138</td>\n",
       "      <td>28802</td>\n",
       "      <td>2018-01-04 05:24:54</td>\n",
       "      <td>Telegram</td>\n",
       "      <td>User Interaction</td>\n",
       "    </tr>\n",
       "    <tr>\n",
       "      <th>1782164</th>\n",
       "      <td>138</td>\n",
       "      <td>28802</td>\n",
       "      <td>2018-01-04 05:28:53</td>\n",
       "      <td>Telegram</td>\n",
       "      <td>User Interaction</td>\n",
       "    </tr>\n",
       "    <tr>\n",
       "      <th>1782165</th>\n",
       "      <td>138</td>\n",
       "      <td>28802</td>\n",
       "      <td>2018-01-04 05:29:02</td>\n",
       "      <td>Facebook Messenger</td>\n",
       "      <td>Opened</td>\n",
       "    </tr>\n",
       "    <tr>\n",
       "      <th>1782166</th>\n",
       "      <td>138</td>\n",
       "      <td>28802</td>\n",
       "      <td>2018-01-04 05:30:02</td>\n",
       "      <td>Facebook Messenger</td>\n",
       "      <td>Closed</td>\n",
       "    </tr>\n",
       "    <tr>\n",
       "      <th>1782167</th>\n",
       "      <td>138</td>\n",
       "      <td>28803</td>\n",
       "      <td>2018-01-04 05:35:04</td>\n",
       "      <td>Twitter</td>\n",
       "      <td>User Interaction</td>\n",
       "    </tr>\n",
       "  </tbody>\n",
       "</table>\n",
       "</div>"
      ],
      "text/plain": [
       "         user_id  session_id           timestamp            app_name  \\\n",
       "1782158      138       28802 2018-01-04 05:21:59               Phone   \n",
       "1782159      138       28802 2018-01-04 05:21:59               Phone   \n",
       "1782160      138       28802 2018-01-04 05:21:59               Phone   \n",
       "1782161      138       28802 2018-01-04 05:22:25               Phone   \n",
       "1782162      138       28802 2018-01-04 05:22:26            Telegram   \n",
       "1782163      138       28802 2018-01-04 05:24:54            Telegram   \n",
       "1782164      138       28802 2018-01-04 05:28:53            Telegram   \n",
       "1782165      138       28802 2018-01-04 05:29:02  Facebook Messenger   \n",
       "1782166      138       28802 2018-01-04 05:30:02  Facebook Messenger   \n",
       "1782167      138       28803 2018-01-04 05:35:04             Twitter   \n",
       "\n",
       "               event_type  \n",
       "1782158            Opened  \n",
       "1782159            Closed  \n",
       "1782160            Opened  \n",
       "1782161            Closed  \n",
       "1782162  User Interaction  \n",
       "1782163  User Interaction  \n",
       "1782164  User Interaction  \n",
       "1782165            Opened  \n",
       "1782166            Closed  \n",
       "1782167  User Interaction  "
      ]
     },
     "execution_count": 21,
     "metadata": {},
     "output_type": "execute_result"
    }
   ],
   "source": [
    "app_data[app_data[\"user_id\"] == 138].head(10)"
   ]
  },
  {
   "cell_type": "code",
   "execution_count": 22,
   "id": "5d5933e8-70a1-4dcb-9875-27de235cdd85",
   "metadata": {},
   "outputs": [
    {
     "data": {
      "text/plain": [
       "0.5974564489680644"
      ]
     },
     "execution_count": 22,
     "metadata": {},
     "output_type": "execute_result"
    }
   ],
   "source": [
    "# investigating duplicate event records\n",
    "app_data.duplicated().sum() / len(app_data)"
   ]
  },
  {
   "cell_type": "markdown",
   "id": "7d02aea2-2598-43ec-88ec-18859af3043c",
   "metadata": {},
   "source": [
    "### About 60% of our data is an exact duplicate of another row."
   ]
  },
  {
   "cell_type": "code",
   "execution_count": 23,
   "id": "9ae4be20-a8dd-4be8-bfff-17a149f8ac41",
   "metadata": {},
   "outputs": [
    {
     "name": "stdout",
     "output_type": "stream",
     "text": [
      "1987090\n",
      "0.543796783014386\n",
      "0.5991560523177109\n"
     ]
    }
   ],
   "source": [
    "# drop closed events \n",
    "closed_dropped = app_data.loc[app_data[\"event_type\"] != \"Closed\", :]\n",
    "\n",
    "print(len(closed_dropped))\n",
    "print(len(closed_dropped) / len(app_data))\n",
    "print(closed_dropped.duplicated().sum() / len(closed_dropped))"
   ]
  },
  {
   "cell_type": "markdown",
   "id": "9ffc692e-f493-4c87-9770-dfa43bee1886",
   "metadata": {},
   "source": [
    "### After we dropped Closed events, we  still have nearly 60% exact duplicates."
   ]
  },
  {
   "cell_type": "code",
   "execution_count": 24,
   "id": "5925df08-574d-444a-a87b-0d8b66820706",
   "metadata": {},
   "outputs": [
    {
     "data": {
      "text/plain": [
       "796513"
      ]
     },
     "execution_count": 24,
     "metadata": {},
     "output_type": "execute_result"
    }
   ],
   "source": [
    "# drop duplication \n",
    "app_data_reduced = closed_dropped.drop_duplicates()\n",
    "len(app_data_reduced)"
   ]
  },
  {
   "cell_type": "markdown",
   "id": "44838959-90ee-4a1e-af15-860f256bb3bb",
   "metadata": {},
   "source": [
    "### Just under 800,000 records after cleaning orginal dataset."
   ]
  },
  {
   "cell_type": "code",
   "execution_count": 25,
   "id": "21b323f5-d891-4167-a125-a0c239168608",
   "metadata": {},
   "outputs": [],
   "source": [
    "# events after duplicate records were removed\n",
    "app_data_reduced.head(10)"
   ]
  },
  {
   "cell_type": "code",
   "execution_count": 26,
   "id": "3ae2720e-b5e8-4ed9-bcbf-e506c4f866c6",
   "metadata": {
    "scrolled": true
   },
   "outputs": [
    {
     "data": {
      "text/html": [
       "<div>\n",
       "<style scoped>\n",
       "    .dataframe tbody tr th:only-of-type {\n",
       "        vertical-align: middle;\n",
       "    }\n",
       "\n",
       "    .dataframe tbody tr th {\n",
       "        vertical-align: top;\n",
       "    }\n",
       "\n",
       "    .dataframe thead th {\n",
       "        text-align: right;\n",
       "    }\n",
       "</style>\n",
       "<table border=\"1\" class=\"dataframe\">\n",
       "  <thead>\n",
       "    <tr style=\"text-align: right;\">\n",
       "      <th></th>\n",
       "      <th>user_id</th>\n",
       "      <th>session_id</th>\n",
       "      <th>timestamp</th>\n",
       "      <th>app_name</th>\n",
       "      <th>event_type</th>\n",
       "    </tr>\n",
       "  </thead>\n",
       "  <tbody>\n",
       "    <tr>\n",
       "      <th>0</th>\n",
       "      <td>0</td>\n",
       "      <td>1</td>\n",
       "      <td>2018-01-16 06:01:05</td>\n",
       "      <td>Minesweeper Classic (Mines)</td>\n",
       "      <td>Opened</td>\n",
       "    </tr>\n",
       "    <tr>\n",
       "      <th>2</th>\n",
       "      <td>0</td>\n",
       "      <td>1</td>\n",
       "      <td>2018-01-16 06:01:07</td>\n",
       "      <td>Minesweeper Classic (Mines)</td>\n",
       "      <td>Opened</td>\n",
       "    </tr>\n",
       "    <tr>\n",
       "      <th>4</th>\n",
       "      <td>0</td>\n",
       "      <td>1</td>\n",
       "      <td>2018-01-16 06:01:08</td>\n",
       "      <td>Minesweeper Classic (Mines)</td>\n",
       "      <td>Opened</td>\n",
       "    </tr>\n",
       "    <tr>\n",
       "      <th>8</th>\n",
       "      <td>0</td>\n",
       "      <td>1</td>\n",
       "      <td>2018-01-16 06:01:09</td>\n",
       "      <td>Minesweeper Classic (Mines)</td>\n",
       "      <td>Opened</td>\n",
       "    </tr>\n",
       "    <tr>\n",
       "      <th>10</th>\n",
       "      <td>0</td>\n",
       "      <td>1</td>\n",
       "      <td>2018-01-16 06:03:44</td>\n",
       "      <td>Minesweeper Classic (Mines)</td>\n",
       "      <td>Opened</td>\n",
       "    </tr>\n",
       "    <tr>\n",
       "      <th>12</th>\n",
       "      <td>0</td>\n",
       "      <td>1</td>\n",
       "      <td>2018-01-16 06:03:45</td>\n",
       "      <td>Minesweeper Classic (Mines)</td>\n",
       "      <td>Opened</td>\n",
       "    </tr>\n",
       "    <tr>\n",
       "      <th>14</th>\n",
       "      <td>0</td>\n",
       "      <td>1</td>\n",
       "      <td>2018-01-16 06:03:47</td>\n",
       "      <td>Minesweeper Classic (Mines)</td>\n",
       "      <td>Opened</td>\n",
       "    </tr>\n",
       "    <tr>\n",
       "      <th>16</th>\n",
       "      <td>0</td>\n",
       "      <td>1</td>\n",
       "      <td>2018-01-16 06:03:49</td>\n",
       "      <td>Minesweeper Classic (Mines)</td>\n",
       "      <td>Opened</td>\n",
       "    </tr>\n",
       "    <tr>\n",
       "      <th>20</th>\n",
       "      <td>0</td>\n",
       "      <td>1</td>\n",
       "      <td>2018-01-16 06:03:51</td>\n",
       "      <td>Minesweeper Classic (Mines)</td>\n",
       "      <td>Opened</td>\n",
       "    </tr>\n",
       "    <tr>\n",
       "      <th>22</th>\n",
       "      <td>0</td>\n",
       "      <td>1</td>\n",
       "      <td>2018-01-16 06:03:52</td>\n",
       "      <td>Minesweeper Classic (Mines)</td>\n",
       "      <td>Opened</td>\n",
       "    </tr>\n",
       "  </tbody>\n",
       "</table>\n",
       "</div>"
      ],
      "text/plain": [
       "    user_id  session_id           timestamp                     app_name  \\\n",
       "0         0           1 2018-01-16 06:01:05  Minesweeper Classic (Mines)   \n",
       "2         0           1 2018-01-16 06:01:07  Minesweeper Classic (Mines)   \n",
       "4         0           1 2018-01-16 06:01:08  Minesweeper Classic (Mines)   \n",
       "8         0           1 2018-01-16 06:01:09  Minesweeper Classic (Mines)   \n",
       "10        0           1 2018-01-16 06:03:44  Minesweeper Classic (Mines)   \n",
       "12        0           1 2018-01-16 06:03:45  Minesweeper Classic (Mines)   \n",
       "14        0           1 2018-01-16 06:03:47  Minesweeper Classic (Mines)   \n",
       "16        0           1 2018-01-16 06:03:49  Minesweeper Classic (Mines)   \n",
       "20        0           1 2018-01-16 06:03:51  Minesweeper Classic (Mines)   \n",
       "22        0           1 2018-01-16 06:03:52  Minesweeper Classic (Mines)   \n",
       "\n",
       "   event_type  \n",
       "0      Opened  \n",
       "2      Opened  \n",
       "4      Opened  \n",
       "8      Opened  \n",
       "10     Opened  \n",
       "12     Opened  \n",
       "14     Opened  \n",
       "16     Opened  \n",
       "20     Opened  \n",
       "22     Opened  "
      ]
     },
     "execution_count": 26,
     "metadata": {},
     "output_type": "execute_result"
    }
   ],
   "source": [
    "app_data_reduced.head(10)"
   ]
  },
  {
   "cell_type": "code",
   "execution_count": 27,
   "id": "69ed08f0-63fe-45ea-98c5-a047fb6f299d",
   "metadata": {},
   "outputs": [
    {
     "data": {
      "text/plain": [
       "0            0\n",
       "2            0\n",
       "4            0\n",
       "8            0\n",
       "10           0\n",
       "          ... \n",
       "3658581    291\n",
       "3658583    291\n",
       "3658585    291\n",
       "3658587    291\n",
       "3658588    291\n",
       "Name: user_id, Length: 255571, dtype: int32"
      ]
     },
     "execution_count": 27,
     "metadata": {},
     "output_type": "execute_result"
    }
   ],
   "source": [
    "app_data_reduced.groupby(\"session_id\")[\"user_id\"].head()"
   ]
  },
  {
   "cell_type": "code",
   "execution_count": 28,
   "id": "f622b892-958a-41d2-bd29-2c119483adae",
   "metadata": {},
   "outputs": [
    {
     "data": {
      "text/plain": [
       "Series([], Name: user_id, dtype: int64)"
      ]
     },
     "execution_count": 28,
     "metadata": {},
     "output_type": "execute_result"
    }
   ],
   "source": [
    "(\n",
    "    app_data_reduced\n",
    "    .groupby(\"session_id\")[\"user_id\"]\n",
    "    .nunique()\n",
    "    .loc[lambda x: x > 1]\n",
    ")"
   ]
  },
  {
   "cell_type": "markdown",
   "id": "188e4d5f-a472-4225-9cff-6c4c4a0321a3",
   "metadata": {},
   "source": [
    "### There are no session IDs across multiple users."
   ]
  },
  {
   "cell_type": "code",
   "execution_count": 29,
   "id": "df84c8d8-03a1-4499-8ed5-66523d7c71d1",
   "metadata": {},
   "outputs": [],
   "source": [
    "sessions = (\n",
    "    app_data_reduced.groupby([\"user_id\", \"session_id\"])\n",
    "    .agg(start=(\"timestamp\", \"min\"),\n",
    "         end=(\"timestamp\", \"max\")).reset_index()\n",
    "    .assign(\n",
    "        duration_mins=lambda _df: (_df[\"end\"] - _df[\"start\"]).dt.seconds/60\n",
    ")\n",
    ")"
   ]
  },
  {
   "cell_type": "markdown",
   "id": "0a6cee92-7031-4fd0-aa30-c7edb5e96e9d",
   "metadata": {},
   "source": [
    "### A snapshot of user sessions and their duration in minutes"
   ]
  },
  {
   "cell_type": "code",
   "execution_count": 30,
   "id": "bd8d647f-5cc7-4e4a-918c-57a253bf7dc5",
   "metadata": {
    "scrolled": true
   },
   "outputs": [
    {
     "data": {
      "text/html": [
       "<div>\n",
       "<style scoped>\n",
       "    .dataframe tbody tr th:only-of-type {\n",
       "        vertical-align: middle;\n",
       "    }\n",
       "\n",
       "    .dataframe tbody tr th {\n",
       "        vertical-align: top;\n",
       "    }\n",
       "\n",
       "    .dataframe thead th {\n",
       "        text-align: right;\n",
       "    }\n",
       "</style>\n",
       "<table border=\"1\" class=\"dataframe\">\n",
       "  <thead>\n",
       "    <tr style=\"text-align: right;\">\n",
       "      <th></th>\n",
       "      <th>user_id</th>\n",
       "      <th>session_id</th>\n",
       "      <th>start</th>\n",
       "      <th>end</th>\n",
       "      <th>duration_mins</th>\n",
       "    </tr>\n",
       "  </thead>\n",
       "  <tbody>\n",
       "    <tr>\n",
       "      <th>0</th>\n",
       "      <td>0</td>\n",
       "      <td>1</td>\n",
       "      <td>2018-01-16 06:01:05</td>\n",
       "      <td>2018-01-16 06:04:17</td>\n",
       "      <td>3.200000</td>\n",
       "    </tr>\n",
       "    <tr>\n",
       "      <th>1</th>\n",
       "      <td>0</td>\n",
       "      <td>2</td>\n",
       "      <td>2018-01-16 06:25:54</td>\n",
       "      <td>2018-01-16 06:26:26</td>\n",
       "      <td>0.533333</td>\n",
       "    </tr>\n",
       "    <tr>\n",
       "      <th>2</th>\n",
       "      <td>0</td>\n",
       "      <td>3</td>\n",
       "      <td>2018-01-16 06:35:35</td>\n",
       "      <td>2018-01-16 06:35:35</td>\n",
       "      <td>0.000000</td>\n",
       "    </tr>\n",
       "    <tr>\n",
       "      <th>3</th>\n",
       "      <td>0</td>\n",
       "      <td>4</td>\n",
       "      <td>2018-01-16 07:15:56</td>\n",
       "      <td>2018-01-16 07:21:44</td>\n",
       "      <td>5.800000</td>\n",
       "    </tr>\n",
       "    <tr>\n",
       "      <th>4</th>\n",
       "      <td>0</td>\n",
       "      <td>5</td>\n",
       "      <td>2018-01-16 08:02:05</td>\n",
       "      <td>2018-01-16 08:04:11</td>\n",
       "      <td>2.100000</td>\n",
       "    </tr>\n",
       "  </tbody>\n",
       "</table>\n",
       "</div>"
      ],
      "text/plain": [
       "   user_id  session_id               start                 end  duration_mins\n",
       "0        0           1 2018-01-16 06:01:05 2018-01-16 06:04:17       3.200000\n",
       "1        0           2 2018-01-16 06:25:54 2018-01-16 06:26:26       0.533333\n",
       "2        0           3 2018-01-16 06:35:35 2018-01-16 06:35:35       0.000000\n",
       "3        0           4 2018-01-16 07:15:56 2018-01-16 07:21:44       5.800000\n",
       "4        0           5 2018-01-16 08:02:05 2018-01-16 08:04:11       2.100000"
      ]
     },
     "execution_count": 30,
     "metadata": {},
     "output_type": "execute_result"
    }
   ],
   "source": [
    "sessions.head()"
   ]
  },
  {
   "cell_type": "markdown",
   "id": "c76faa5b-dc8d-43bb-a33c-5e352b7f887f",
   "metadata": {},
   "source": [
    "### Produce the average duration_mins in sessions for each user"
   ]
  },
  {
   "cell_type": "code",
   "execution_count": 32,
   "id": "0e483325-dbaf-4f25-b0d6-7ff9f2512160",
   "metadata": {},
   "outputs": [
    {
     "data": {
      "image/png": "[encoded data removed]",
      "text/plain": [
       "<Figure size 640x480 with 1 Axes>"
      ]
     },
     "metadata": {},
     "output_type": "display_data"
    }
   ],
   "source": [
    "fig, axis = plt.subplots()\n",
    "\n",
    "avg_session_by_user = (\n",
    "    sessions.groupby(\"user_id\")[\"duration_mins\"].median()\n",
    ")\n",
    " \n",
    "_ =  avg_session_by_user.hist(bins=20, ax=axis) \n",
    "\n",
    "axis.set(\n",
    "    title=\"Distribution of average session length per user\",\n",
    "    xlabel=\"Session duration (minutes)\",\n",
    "    ylabel=\"Frequency\"\n",
    ")\n",
    "\n",
    "plt.savefig(\"average_session_length\")\n",
    "plt.show()"
   ]
  },
  {
   "cell_type": "markdown",
   "id": "baa0e26d-eb5d-4972-b926-b22a573b52bf",
   "metadata": {},
   "source": [
    "### Most users sessions last less than two minutes."
   ]
  },
  {
   "cell_type": "code",
   "execution_count": 33,
   "id": "2e555f1d-a1d3-4255-90a4-dec28a675fb1",
   "metadata": {},
   "outputs": [
    {
     "data": {
      "image/png": "[encoded data removed]",
      "text/plain": [
       "<Figure size 640x480 with 1 Axes>"
      ]
     },
     "metadata": {},
     "output_type": "display_data"
    }
   ],
   "source": [
    "# isolate just the hour in which using app began\n",
    "\n",
    "sessions[\"hour\"] = sessions[\"start\"].dt.hour\n",
    "\n",
    "_ = (\n",
    "    sessions[\"hour\"]\n",
    "    .value_counts()\n",
    "    .sort_index()\n",
    "    .plot(kind=\"bar\")\n",
    ")\n",
    "\n",
    "plt.savefig(\"dist_of_startHour_app\")\n",
    "plt.show()"
   ]
  },
  {
   "cell_type": "markdown",
   "id": "5638bb0f-ea3c-41a5-b683-aac5ed32789d",
   "metadata": {},
   "source": [
    "### Most browsing sessions start in the late afternoon/early evening."
   ]
  },
  {
   "cell_type": "code",
   "execution_count": 34,
   "id": "afca6702-20f5-4347-8966-9beee5c5c20e",
   "metadata": {},
   "outputs": [],
   "source": [
    "# return possibly multiple values of the mode for each user\n",
    "def get_modes(group):\n",
    "    mode_hours = group['hour'].mode()\n",
    "    return pd.DataFrame( { 'user_id': group['user_id'].iloc[0],\n",
    "                            'most_frequent_hour' : mode_hours\n",
    "                         }\n",
    "                       )"
   ]
  },
  {
   "cell_type": "code",
   "execution_count": 35,
   "id": "8c11e914-c28c-4dbf-9e73-1e6e59e8f0f8",
   "metadata": {},
   "outputs": [],
   "source": [
    "most_frequent_hours = (\n",
    "    sessions\n",
    "    .groupby(\"user_id\")\n",
    "    .apply(get_modes) #B\n",
    "    .rename(columns={\"user_id\": \"duplicate_user_id\"})\n",
    "    .reset_index()\n",
    "    .drop(columns=[\"level_1\", \"duplicate_user_id\"])\n",
    ")"
   ]
  },
  {
   "cell_type": "code",
   "execution_count": 36,
   "id": "0b3cbc8e-81cc-47fc-8207-92986c94dbf1",
   "metadata": {
    "scrolled": true
   },
   "outputs": [
    {
     "data": {
      "text/html": [
       "<div>\n",
       "<style scoped>\n",
       "    .dataframe tbody tr th:only-of-type {\n",
       "        vertical-align: middle;\n",
       "    }\n",
       "\n",
       "    .dataframe tbody tr th {\n",
       "        vertical-align: top;\n",
       "    }\n",
       "\n",
       "    .dataframe thead th {\n",
       "        text-align: right;\n",
       "    }\n",
       "</style>\n",
       "<table border=\"1\" class=\"dataframe\">\n",
       "  <thead>\n",
       "    <tr style=\"text-align: right;\">\n",
       "      <th></th>\n",
       "      <th>user_id</th>\n",
       "      <th>most_frequent_hour</th>\n",
       "    </tr>\n",
       "  </thead>\n",
       "  <tbody>\n",
       "    <tr>\n",
       "      <th>0</th>\n",
       "      <td>0</td>\n",
       "      <td>16</td>\n",
       "    </tr>\n",
       "    <tr>\n",
       "      <th>1</th>\n",
       "      <td>0</td>\n",
       "      <td>22</td>\n",
       "    </tr>\n",
       "    <tr>\n",
       "      <th>2</th>\n",
       "      <td>1</td>\n",
       "      <td>17</td>\n",
       "    </tr>\n",
       "    <tr>\n",
       "      <th>3</th>\n",
       "      <td>2</td>\n",
       "      <td>6</td>\n",
       "    </tr>\n",
       "    <tr>\n",
       "      <th>4</th>\n",
       "      <td>3</td>\n",
       "      <td>18</td>\n",
       "    </tr>\n",
       "  </tbody>\n",
       "</table>\n",
       "</div>"
      ],
      "text/plain": [
       "   user_id  most_frequent_hour\n",
       "0        0                  16\n",
       "1        0                  22\n",
       "2        1                  17\n",
       "3        2                   6\n",
       "4        3                  18"
      ]
     },
     "execution_count": 36,
     "metadata": {},
     "output_type": "execute_result"
    }
   ],
   "source": [
    "most_frequent_hours.head()"
   ]
  },
  {
   "cell_type": "markdown",
   "id": "5da2d5da-ce0c-4aec-8ded-0c9e8b0af5ee",
   "metadata": {},
   "source": [
    "### Group users by time of using mobile apps"
   ]
  },
  {
   "cell_type": "code",
   "execution_count": 38,
   "id": "d6f131ba-1385-4ddb-afa3-46e4968a84b9",
   "metadata": {},
   "outputs": [],
   "source": [
    "bins = [-1, 3, 9, 14, 20]\n",
    "labels = ['night_owl', 'early_morning_browser',\n",
    "          'midday_browser', 'late_day_browser']\n",
    "\n",
    "most_frequent_hours[\"category\"] = (\n",
    "    pd.cut(\n",
    "        most_frequent_hours[\"most_frequent_hour\"],\n",
    "        bins=bins,\n",
    "        labels=labels,\n",
    "        ordered=True\n",
    "    )\n",
    ")"
   ]
  },
  {
   "cell_type": "code",
   "execution_count": 39,
   "id": "aef422e7-dcc7-4f96-acf3-43e71b11f736",
   "metadata": {},
   "outputs": [],
   "source": [
    "# fix additional night owl values\n",
    "most_frequent_hours.loc[most_frequent_hours[\"most_frequent_hour\"].isin([21, 22, 23]), \"category\"] = \"night_owl\""
   ]
  },
  {
   "cell_type": "code",
   "execution_count": 40,
   "id": "6965db88-1600-464f-a0ec-713904c6e607",
   "metadata": {},
   "outputs": [
    {
     "data": {
      "text/html": [
       "<div>\n",
       "<style scoped>\n",
       "    .dataframe tbody tr th:only-of-type {\n",
       "        vertical-align: middle;\n",
       "    }\n",
       "\n",
       "    .dataframe tbody tr th {\n",
       "        vertical-align: top;\n",
       "    }\n",
       "\n",
       "    .dataframe thead th {\n",
       "        text-align: right;\n",
       "    }\n",
       "</style>\n",
       "<table border=\"1\" class=\"dataframe\">\n",
       "  <thead>\n",
       "    <tr style=\"text-align: right;\">\n",
       "      <th></th>\n",
       "      <th>user_id</th>\n",
       "      <th>most_frequent_hour</th>\n",
       "      <th>category</th>\n",
       "    </tr>\n",
       "  </thead>\n",
       "  <tbody>\n",
       "    <tr>\n",
       "      <th>0</th>\n",
       "      <td>0</td>\n",
       "      <td>16</td>\n",
       "      <td>late_day_browser</td>\n",
       "    </tr>\n",
       "    <tr>\n",
       "      <th>1</th>\n",
       "      <td>0</td>\n",
       "      <td>22</td>\n",
       "      <td>night_owl</td>\n",
       "    </tr>\n",
       "    <tr>\n",
       "      <th>2</th>\n",
       "      <td>1</td>\n",
       "      <td>17</td>\n",
       "      <td>late_day_browser</td>\n",
       "    </tr>\n",
       "    <tr>\n",
       "      <th>3</th>\n",
       "      <td>2</td>\n",
       "      <td>6</td>\n",
       "      <td>early_morning_browser</td>\n",
       "    </tr>\n",
       "    <tr>\n",
       "      <th>4</th>\n",
       "      <td>3</td>\n",
       "      <td>18</td>\n",
       "      <td>late_day_browser</td>\n",
       "    </tr>\n",
       "  </tbody>\n",
       "</table>\n",
       "</div>"
      ],
      "text/plain": [
       "   user_id  most_frequent_hour               category\n",
       "0        0                  16       late_day_browser\n",
       "1        0                  22              night_owl\n",
       "2        1                  17       late_day_browser\n",
       "3        2                   6  early_morning_browser\n",
       "4        3                  18       late_day_browser"
      ]
     },
     "execution_count": 40,
     "metadata": {},
     "output_type": "execute_result"
    }
   ],
   "source": [
    "most_frequent_hours.head()"
   ]
  },
  {
   "cell_type": "code",
   "execution_count": 42,
   "id": "3ad8fb20-8ce5-4285-aa98-f65676c42806",
   "metadata": {},
   "outputs": [
    {
     "data": {
      "text/plain": [
       "category\n",
       "night_owl                154\n",
       "early_morning_browser     48\n",
       "midday_browser            66\n",
       "late_day_browser         161\n",
       "Name: count, dtype: int64"
      ]
     },
     "execution_count": 42,
     "metadata": {},
     "output_type": "execute_result"
    }
   ],
   "source": [
    "(\n",
    "    most_frequent_hours[\"category\"]\n",
    "    .value_counts()\n",
    "    .sort_index()\n",
    ")"
   ]
  },
  {
   "cell_type": "code",
   "execution_count": 43,
   "id": "00cc5d94-9a06-42b0-95ba-7085e0f8a0e6",
   "metadata": {},
   "outputs": [
    {
     "data": {
      "text/html": [
       "<div>\n",
       "<style scoped>\n",
       "    .dataframe tbody tr th:only-of-type {\n",
       "        vertical-align: middle;\n",
       "    }\n",
       "\n",
       "    .dataframe tbody tr th {\n",
       "        vertical-align: top;\n",
       "    }\n",
       "\n",
       "    .dataframe thead th {\n",
       "        text-align: right;\n",
       "    }\n",
       "</style>\n",
       "<table border=\"1\" class=\"dataframe\">\n",
       "  <thead>\n",
       "    <tr style=\"text-align: right;\">\n",
       "      <th></th>\n",
       "      <th>user_id</th>\n",
       "      <th>time_night_owl</th>\n",
       "      <th>time_early_morning_browser</th>\n",
       "      <th>time_midday_browser</th>\n",
       "      <th>time_late_day_browser</th>\n",
       "    </tr>\n",
       "  </thead>\n",
       "  <tbody>\n",
       "    <tr>\n",
       "      <th>0</th>\n",
       "      <td>0</td>\n",
       "      <td>True</td>\n",
       "      <td>False</td>\n",
       "      <td>False</td>\n",
       "      <td>True</td>\n",
       "    </tr>\n",
       "    <tr>\n",
       "      <th>1</th>\n",
       "      <td>1</td>\n",
       "      <td>False</td>\n",
       "      <td>False</td>\n",
       "      <td>False</td>\n",
       "      <td>True</td>\n",
       "    </tr>\n",
       "    <tr>\n",
       "      <th>2</th>\n",
       "      <td>2</td>\n",
       "      <td>False</td>\n",
       "      <td>True</td>\n",
       "      <td>False</td>\n",
       "      <td>False</td>\n",
       "    </tr>\n",
       "    <tr>\n",
       "      <th>3</th>\n",
       "      <td>3</td>\n",
       "      <td>False</td>\n",
       "      <td>False</td>\n",
       "      <td>False</td>\n",
       "      <td>True</td>\n",
       "    </tr>\n",
       "    <tr>\n",
       "      <th>4</th>\n",
       "      <td>4</td>\n",
       "      <td>True</td>\n",
       "      <td>False</td>\n",
       "      <td>False</td>\n",
       "      <td>False</td>\n",
       "    </tr>\n",
       "  </tbody>\n",
       "</table>\n",
       "</div>"
      ],
      "text/plain": [
       "   user_id  time_night_owl  time_early_morning_browser  time_midday_browser  \\\n",
       "0        0            True                       False                False   \n",
       "1        1           False                       False                False   \n",
       "2        2           False                        True                False   \n",
       "3        3           False                       False                False   \n",
       "4        4            True                       False                False   \n",
       "\n",
       "   time_late_day_browser  \n",
       "0                   True  \n",
       "1                   True  \n",
       "2                  False  \n",
       "3                   True  \n",
       "4                  False  "
      ]
     },
     "execution_count": 43,
     "metadata": {},
     "output_type": "execute_result"
    }
   ],
   "source": [
    "users = (\n",
    "    pd.get_dummies(\n",
    "    most_frequent_hours.drop(columns=[\"most_frequent_hour\"]),\n",
    "    columns=[\"category\"],\n",
    "    prefix=\"time\")\n",
    "    .groupby(\"user_id\")\n",
    "    .max()\n",
    "    .reset_index()\n",
    ")\n",
    "\n",
    "users.head()"
   ]
  },
  {
   "cell_type": "code",
   "execution_count": 44,
   "id": "fb4e64b7-d738-407d-849d-f50367108b09",
   "metadata": {},
   "outputs": [],
   "source": [
    "categories = pd.read_csv(\"./data/App_Categories.csv\", \n",
    "                         skiprows=1,\n",
    "                         names=[\"app_name\", \"app_category\"])"
   ]
  },
  {
   "cell_type": "code",
   "execution_count": 45,
   "id": "ab246c58-b773-4a50-9081-89ae258ec05c",
   "metadata": {},
   "outputs": [
    {
     "name": "stdout",
     "output_type": "stream",
     "text": [
      "(87, 2)\n"
     ]
    },
    {
     "data": {
      "text/html": [
       "<div>\n",
       "<style scoped>\n",
       "    .dataframe tbody tr th:only-of-type {\n",
       "        vertical-align: middle;\n",
       "    }\n",
       "\n",
       "    .dataframe tbody tr th {\n",
       "        vertical-align: top;\n",
       "    }\n",
       "\n",
       "    .dataframe thead th {\n",
       "        text-align: right;\n",
       "    }\n",
       "</style>\n",
       "<table border=\"1\" class=\"dataframe\">\n",
       "  <thead>\n",
       "    <tr style=\"text-align: right;\">\n",
       "      <th></th>\n",
       "      <th>app_name</th>\n",
       "      <th>app_category</th>\n",
       "    </tr>\n",
       "  </thead>\n",
       "  <tbody>\n",
       "    <tr>\n",
       "      <th>0</th>\n",
       "      <td>Minesweeper Classic (Mines)</td>\n",
       "      <td>Mobile Games</td>\n",
       "    </tr>\n",
       "    <tr>\n",
       "      <th>1</th>\n",
       "      <td>Gmail</td>\n",
       "      <td>Email</td>\n",
       "    </tr>\n",
       "    <tr>\n",
       "      <th>2</th>\n",
       "      <td>Google</td>\n",
       "      <td>Web Browser/Search Engine</td>\n",
       "    </tr>\n",
       "    <tr>\n",
       "      <th>3</th>\n",
       "      <td>Instagram</td>\n",
       "      <td>Social Media</td>\n",
       "    </tr>\n",
       "    <tr>\n",
       "      <th>4</th>\n",
       "      <td>Google Chrome</td>\n",
       "      <td>Web Browser</td>\n",
       "    </tr>\n",
       "  </tbody>\n",
       "</table>\n",
       "</div>"
      ],
      "text/plain": [
       "                      app_name               app_category\n",
       "0  Minesweeper Classic (Mines)               Mobile Games\n",
       "1                        Gmail                      Email\n",
       "2                       Google  Web Browser/Search Engine\n",
       "3                    Instagram               Social Media\n",
       "4                Google Chrome                Web Browser"
      ]
     },
     "execution_count": 45,
     "metadata": {},
     "output_type": "execute_result"
    }
   ],
   "source": [
    "print(categories.shape)\n",
    "categories.head()"
   ]
  },
  {
   "cell_type": "code",
   "execution_count": 46,
   "id": "e3e03702-51aa-47e2-9704-d22c2f2ac554",
   "metadata": {},
   "outputs": [
    {
     "data": {
      "text/plain": [
       "app_category\n",
       "Messaging                    12\n",
       "Utility                       9\n",
       "Social Media                  8\n",
       "Mobile Games                  5\n",
       "Unknown                       5\n",
       "Advertising                   5\n",
       "Email                         5\n",
       "Finance                       5\n",
       "Video Streaming               4\n",
       "Online Shopping               4\n",
       "Music Streaming               3\n",
       "Web Browser                   3\n",
       "Communication                 3\n",
       "Photo Management              3\n",
       "Photo Editing                 2\n",
       "Web Browser/Search Engine     2\n",
       "Cloud Storage                 1\n",
       "Social Media/Messaging        1\n",
       "Productivity                  1\n",
       "Note Taking                   1\n",
       "News                          1\n",
       "Navigation                    1\n",
       "Health                        1\n",
       "Podcasts                      1\n",
       "App Marketplace               1\n",
       "Name: count, dtype: int64"
      ]
     },
     "execution_count": 46,
     "metadata": {},
     "output_type": "execute_result"
    }
   ],
   "source": [
    "# distribution of this category data\n",
    "categories[\"app_category\"].value_counts()"
   ]
  },
  {
   "cell_type": "code",
   "execution_count": 47,
   "id": "b0e3602c-fdf2-42cb-8ed7-11c219a75b7a",
   "metadata": {},
   "outputs": [
    {
     "data": {
      "text/html": [
       "<div>\n",
       "<style scoped>\n",
       "    .dataframe tbody tr th:only-of-type {\n",
       "        vertical-align: middle;\n",
       "    }\n",
       "\n",
       "    .dataframe tbody tr th {\n",
       "        vertical-align: top;\n",
       "    }\n",
       "\n",
       "    .dataframe thead th {\n",
       "        text-align: right;\n",
       "    }\n",
       "</style>\n",
       "<table border=\"1\" class=\"dataframe\">\n",
       "  <thead>\n",
       "    <tr style=\"text-align: right;\">\n",
       "      <th></th>\n",
       "      <th>app_name</th>\n",
       "      <th>app_category</th>\n",
       "    </tr>\n",
       "  </thead>\n",
       "  <tbody>\n",
       "    <tr>\n",
       "      <th>45</th>\n",
       "      <td>MUIQ Survey App</td>\n",
       "      <td>Unknown</td>\n",
       "    </tr>\n",
       "    <tr>\n",
       "      <th>54</th>\n",
       "      <td>Reward Stash</td>\n",
       "      <td>Unknown</td>\n",
       "    </tr>\n",
       "    <tr>\n",
       "      <th>68</th>\n",
       "      <td>Movie Play Box</td>\n",
       "      <td>Unknown</td>\n",
       "    </tr>\n",
       "    <tr>\n",
       "      <th>70</th>\n",
       "      <td>SurveyCow</td>\n",
       "      <td>Unknown</td>\n",
       "    </tr>\n",
       "    <tr>\n",
       "      <th>76</th>\n",
       "      <td>MetroZone</td>\n",
       "      <td>Unknown</td>\n",
       "    </tr>\n",
       "  </tbody>\n",
       "</table>\n",
       "</div>"
      ],
      "text/plain": [
       "           app_name app_category\n",
       "45  MUIQ Survey App      Unknown\n",
       "54     Reward Stash      Unknown\n",
       "68   Movie Play Box      Unknown\n",
       "70        SurveyCow      Unknown\n",
       "76        MetroZone      Unknown"
      ]
     },
     "execution_count": 47,
     "metadata": {},
     "output_type": "execute_result"
    }
   ],
   "source": [
    "# resolve the “Unknown” values\n",
    "categories[categories[\"app_category\"] == \"Unknown\"]"
   ]
  },
  {
   "cell_type": "code",
   "execution_count": 48,
   "id": "6ea823f3-f56d-4788-be9c-dbb4ae77770d",
   "metadata": {},
   "outputs": [],
   "source": [
    "categories.loc[categories[\"app_name\"]==\"MUIQ Survey App\", \"app_category\"] = \"Survey\"\n",
    "categories.loc[categories[\"app_name\"]==\"SurveyCow\", \"app_category\"] = \"Survey\"\n",
    "categories.loc[categories[\"app_name\"]==\"Reward Stash\", \"app_category\"] = \"Rewards\"\n",
    "categories.loc[categories[\"app_name\"]==\"Movie Play Box\", \"app_category\"] = \"Video Streaming\"\n",
    "categories.loc[categories[\"app_name\"]==\"MetroZone\", \"app_category\"] = \"Utility\""
   ]
  },
  {
   "cell_type": "code",
   "execution_count": 49,
   "id": "015a38ae-d1af-4413-ad2a-7ce1bf64f2fd",
   "metadata": {},
   "outputs": [
    {
     "data": {
      "text/html": [
       "<div>\n",
       "<style scoped>\n",
       "    .dataframe tbody tr th:only-of-type {\n",
       "        vertical-align: middle;\n",
       "    }\n",
       "\n",
       "    .dataframe tbody tr th {\n",
       "        vertical-align: top;\n",
       "    }\n",
       "\n",
       "    .dataframe thead th {\n",
       "        text-align: right;\n",
       "    }\n",
       "</style>\n",
       "<table border=\"1\" class=\"dataframe\">\n",
       "  <thead>\n",
       "    <tr style=\"text-align: right;\">\n",
       "      <th></th>\n",
       "      <th>app_name</th>\n",
       "      <th>app_category</th>\n",
       "    </tr>\n",
       "  </thead>\n",
       "  <tbody>\n",
       "  </tbody>\n",
       "</table>\n",
       "</div>"
      ],
      "text/plain": [
       "Empty DataFrame\n",
       "Columns: [app_name, app_category]\n",
       "Index: []"
      ]
     },
     "execution_count": 49,
     "metadata": {},
     "output_type": "execute_result"
    }
   ],
   "source": [
    "categories[categories[\"app_category\"] == \"Unknown\"]"
   ]
  },
  {
   "cell_type": "code",
   "execution_count": 51,
   "id": "e1977ca9-755c-4b2e-8759-ac2e21e28d4c",
   "metadata": {},
   "outputs": [
    {
     "name": "stdout",
     "output_type": "stream",
     "text": [
      "'Advertising'\n",
      "'App Marketplace'\n",
      "'Cloud Storage'\n",
      "'Communication'\n",
      "'Email'\n",
      "'Finance'\n",
      "'Health'\n",
      "'Messaging'\n",
      "'Mobile Games'\n",
      "'Music Streaming'\n",
      "'Navigation'\n",
      "'News'\n",
      "'Note Taking'\n",
      "'Online Shopping'\n",
      "'Photo Editing'\n",
      "'Photo Management'\n",
      "'Podcasts'\n",
      "'Productivity'\n",
      "'Rewards'\n",
      "'Social Media'\n",
      "'Social Media/Messaging'\n",
      "'Survey'\n",
      "'Utility'\n",
      "'Video Streaming'\n",
      "'Web Browser'\n",
      "'Web Browser/Search Engine'\n"
     ]
    }
   ],
   "source": [
    "# prints the existing categories\n",
    "for category in sorted(categories[\"app_category\"].unique()):\n",
    "    print(f\"'{category}'\")"
   ]
  },
  {
   "cell_type": "code",
   "execution_count": 52,
   "id": "1ee3b7a5-bd53-463d-9e8f-d7f319eef3fe",
   "metadata": {},
   "outputs": [],
   "source": [
    "# updates each existing category with its new categorization.\n",
    "# keep the existing category column as a subcategory, so we have two levels of app category hierarchy.\n",
    "\n",
    "categories = categories.rename(columns={\"app_category\": \"app_subcategory\"})\n",
    "category_map = {\n",
    "    'Advertising': 'Money',\n",
    "    'App Marketplace': 'Entertainment',\n",
    "    'Cloud Storage': 'Utility',\n",
    "    'Communication': 'Social',\n",
    "    'Email': 'Social',\n",
    "    'Finance': 'Money',\n",
    "    'Health': 'Social',\n",
    "    'Messaging': 'Social',\n",
    "    'Mobile Games': 'Entertainment',\n",
    "    'Music Streaming': 'Entertainment',\n",
    "    'Navigation': 'Utility',\n",
    "    'News': 'Social',\n",
    "    'Note Taking': 'Utility',\n",
    "    'Online Shopping': 'Money',\n",
    "    'Photo Editing': 'Utility',\n",
    "    'Photo Management': 'Utility',\n",
    "    'Podcasts': 'Entertainment',\n",
    "    'Productivity': 'Utility',\n",
    "    'Rewards': 'Money',\n",
    "    'Social Media': 'Social',\n",
    "    'Social Media/Messaging': 'Social',\n",
    "    'Survey': 'Money',\n",
    "    'Utility': 'Utility',\n",
    "    'Video Streaming': 'Entertainment',\n",
    "    'Web Browser': 'Browsing',\n",
    "    'Web Browser/Search Engine': 'Browsing'\n",
    "}"
   ]
  },
  {
   "cell_type": "code",
   "execution_count": 54,
   "id": "de400d34-5db4-4456-a2cd-067e9fbf4694",
   "metadata": {},
   "outputs": [
    {
     "data": {
      "text/html": [
       "<div>\n",
       "<style scoped>\n",
       "    .dataframe tbody tr th:only-of-type {\n",
       "        vertical-align: middle;\n",
       "    }\n",
       "\n",
       "    .dataframe tbody tr th {\n",
       "        vertical-align: top;\n",
       "    }\n",
       "\n",
       "    .dataframe thead th {\n",
       "        text-align: right;\n",
       "    }\n",
       "</style>\n",
       "<table border=\"1\" class=\"dataframe\">\n",
       "  <thead>\n",
       "    <tr style=\"text-align: right;\">\n",
       "      <th></th>\n",
       "      <th>app_name</th>\n",
       "      <th>app_subcategory</th>\n",
       "      <th>app_category</th>\n",
       "    </tr>\n",
       "  </thead>\n",
       "  <tbody>\n",
       "    <tr>\n",
       "      <th>0</th>\n",
       "      <td>Minesweeper Classic (Mines)</td>\n",
       "      <td>Mobile Games</td>\n",
       "      <td>Entertainment</td>\n",
       "    </tr>\n",
       "    <tr>\n",
       "      <th>1</th>\n",
       "      <td>Gmail</td>\n",
       "      <td>Email</td>\n",
       "      <td>Social</td>\n",
       "    </tr>\n",
       "    <tr>\n",
       "      <th>2</th>\n",
       "      <td>Google</td>\n",
       "      <td>Web Browser/Search Engine</td>\n",
       "      <td>Browsing</td>\n",
       "    </tr>\n",
       "    <tr>\n",
       "      <th>3</th>\n",
       "      <td>Instagram</td>\n",
       "      <td>Social Media</td>\n",
       "      <td>Social</td>\n",
       "    </tr>\n",
       "    <tr>\n",
       "      <th>4</th>\n",
       "      <td>Google Chrome</td>\n",
       "      <td>Web Browser</td>\n",
       "      <td>Browsing</td>\n",
       "    </tr>\n",
       "  </tbody>\n",
       "</table>\n",
       "</div>"
      ],
      "text/plain": [
       "                      app_name            app_subcategory   app_category\n",
       "0  Minesweeper Classic (Mines)               Mobile Games  Entertainment\n",
       "1                        Gmail                      Email         Social\n",
       "2                       Google  Web Browser/Search Engine       Browsing\n",
       "3                    Instagram               Social Media         Social\n",
       "4                Google Chrome                Web Browser       Browsing"
      ]
     },
     "execution_count": 54,
     "metadata": {},
     "output_type": "execute_result"
    }
   ],
   "source": [
    "categories[\"app_category\"] = categories[\"app_subcategory\"].map(category_map)\n",
    "categories.head()"
   ]
  },
  {
   "cell_type": "markdown",
   "id": "5bd635e0-697a-43d7-8ce5-a142cd05818a",
   "metadata": {},
   "source": [
    "### Merge a categories dataset with app_reduced"
   ]
  },
  {
   "cell_type": "code",
   "execution_count": 56,
   "id": "78459d8d-96eb-4a5f-8ba2-ae180d999b18",
   "metadata": {},
   "outputs": [],
   "source": [
    "app_data_merged = app_data_reduced.merge(categories,\n",
    "                                         on=\"app_name\")"
   ]
  },
  {
   "cell_type": "code",
   "execution_count": 57,
   "id": "4701449a-2920-489e-b869-c1ec54356844",
   "metadata": {
    "scrolled": true
   },
   "outputs": [
    {
     "data": {
      "text/html": [
       "<div>\n",
       "<style scoped>\n",
       "    .dataframe tbody tr th:only-of-type {\n",
       "        vertical-align: middle;\n",
       "    }\n",
       "\n",
       "    .dataframe tbody tr th {\n",
       "        vertical-align: top;\n",
       "    }\n",
       "\n",
       "    .dataframe thead th {\n",
       "        text-align: right;\n",
       "    }\n",
       "</style>\n",
       "<table border=\"1\" class=\"dataframe\">\n",
       "  <thead>\n",
       "    <tr style=\"text-align: right;\">\n",
       "      <th></th>\n",
       "      <th>user_id</th>\n",
       "      <th>session_id</th>\n",
       "      <th>timestamp</th>\n",
       "      <th>app_name</th>\n",
       "      <th>event_type</th>\n",
       "      <th>app_subcategory</th>\n",
       "      <th>app_category</th>\n",
       "    </tr>\n",
       "  </thead>\n",
       "  <tbody>\n",
       "    <tr>\n",
       "      <th>0</th>\n",
       "      <td>0</td>\n",
       "      <td>1</td>\n",
       "      <td>2018-01-16 06:01:05</td>\n",
       "      <td>Minesweeper Classic (Mines)</td>\n",
       "      <td>Opened</td>\n",
       "      <td>Mobile Games</td>\n",
       "      <td>Entertainment</td>\n",
       "    </tr>\n",
       "    <tr>\n",
       "      <th>1</th>\n",
       "      <td>0</td>\n",
       "      <td>1</td>\n",
       "      <td>2018-01-16 06:01:07</td>\n",
       "      <td>Minesweeper Classic (Mines)</td>\n",
       "      <td>Opened</td>\n",
       "      <td>Mobile Games</td>\n",
       "      <td>Entertainment</td>\n",
       "    </tr>\n",
       "    <tr>\n",
       "      <th>2</th>\n",
       "      <td>0</td>\n",
       "      <td>1</td>\n",
       "      <td>2018-01-16 06:01:08</td>\n",
       "      <td>Minesweeper Classic (Mines)</td>\n",
       "      <td>Opened</td>\n",
       "      <td>Mobile Games</td>\n",
       "      <td>Entertainment</td>\n",
       "    </tr>\n",
       "    <tr>\n",
       "      <th>3</th>\n",
       "      <td>0</td>\n",
       "      <td>1</td>\n",
       "      <td>2018-01-16 06:01:09</td>\n",
       "      <td>Minesweeper Classic (Mines)</td>\n",
       "      <td>Opened</td>\n",
       "      <td>Mobile Games</td>\n",
       "      <td>Entertainment</td>\n",
       "    </tr>\n",
       "    <tr>\n",
       "      <th>4</th>\n",
       "      <td>0</td>\n",
       "      <td>1</td>\n",
       "      <td>2018-01-16 06:03:44</td>\n",
       "      <td>Minesweeper Classic (Mines)</td>\n",
       "      <td>Opened</td>\n",
       "      <td>Mobile Games</td>\n",
       "      <td>Entertainment</td>\n",
       "    </tr>\n",
       "  </tbody>\n",
       "</table>\n",
       "</div>"
      ],
      "text/plain": [
       "   user_id  session_id           timestamp                     app_name  \\\n",
       "0        0           1 2018-01-16 06:01:05  Minesweeper Classic (Mines)   \n",
       "1        0           1 2018-01-16 06:01:07  Minesweeper Classic (Mines)   \n",
       "2        0           1 2018-01-16 06:01:08  Minesweeper Classic (Mines)   \n",
       "3        0           1 2018-01-16 06:01:09  Minesweeper Classic (Mines)   \n",
       "4        0           1 2018-01-16 06:03:44  Minesweeper Classic (Mines)   \n",
       "\n",
       "  event_type app_subcategory   app_category  \n",
       "0     Opened    Mobile Games  Entertainment  \n",
       "1     Opened    Mobile Games  Entertainment  \n",
       "2     Opened    Mobile Games  Entertainment  \n",
       "3     Opened    Mobile Games  Entertainment  \n",
       "4     Opened    Mobile Games  Entertainment  "
      ]
     },
     "execution_count": 57,
     "metadata": {},
     "output_type": "execute_result"
    }
   ],
   "source": [
    "assert len(app_data_reduced) == len(app_data_merged)\n",
    "app_data_merged.head()"
   ]
  },
  {
   "cell_type": "markdown",
   "id": "4a73fd58-31eb-4b99-95b3-45644a10812b",
   "metadata": {},
   "source": [
    "#### From the app_data_merged data, we want to find each user’s most common app category."
   ]
  },
  {
   "cell_type": "code",
   "execution_count": 59,
   "id": "81398128-a09c-4031-8b97-e6621157f94c",
   "metadata": {},
   "outputs": [],
   "source": [
    "# calculates the top categories per user\n",
    "\n",
    "top_categories = (\n",
    "    app_data_merged\n",
    "    .groupby(\"user_id\")\n",
    "    [\"app_category\"]\n",
    "    .apply(pd.Series.mode)\n",
    "    .reset_index()\n",
    ")\n"
   ]
  },
  {
   "cell_type": "code",
   "execution_count": 60,
   "id": "7a2aefc9-4747-4b4c-8251-47e02097c96f",
   "metadata": {},
   "outputs": [
    {
     "data": {
      "text/html": [
       "<div>\n",
       "<style scoped>\n",
       "    .dataframe tbody tr th:only-of-type {\n",
       "        vertical-align: middle;\n",
       "    }\n",
       "\n",
       "    .dataframe tbody tr th {\n",
       "        vertical-align: top;\n",
       "    }\n",
       "\n",
       "    .dataframe thead th {\n",
       "        text-align: right;\n",
       "    }\n",
       "</style>\n",
       "<table border=\"1\" class=\"dataframe\">\n",
       "  <thead>\n",
       "    <tr style=\"text-align: right;\">\n",
       "      <th></th>\n",
       "      <th>user_id</th>\n",
       "      <th>level_1</th>\n",
       "      <th>app_category</th>\n",
       "    </tr>\n",
       "  </thead>\n",
       "  <tbody>\n",
       "    <tr>\n",
       "      <th>0</th>\n",
       "      <td>0</td>\n",
       "      <td>0</td>\n",
       "      <td>Entertainment</td>\n",
       "    </tr>\n",
       "    <tr>\n",
       "      <th>1</th>\n",
       "      <td>1</td>\n",
       "      <td>0</td>\n",
       "      <td>Social</td>\n",
       "    </tr>\n",
       "    <tr>\n",
       "      <th>2</th>\n",
       "      <td>2</td>\n",
       "      <td>0</td>\n",
       "      <td>Social</td>\n",
       "    </tr>\n",
       "    <tr>\n",
       "      <th>3</th>\n",
       "      <td>3</td>\n",
       "      <td>0</td>\n",
       "      <td>Money</td>\n",
       "    </tr>\n",
       "    <tr>\n",
       "      <th>4</th>\n",
       "      <td>4</td>\n",
       "      <td>0</td>\n",
       "      <td>Social</td>\n",
       "    </tr>\n",
       "  </tbody>\n",
       "</table>\n",
       "</div>"
      ],
      "text/plain": [
       "   user_id  level_1   app_category\n",
       "0        0        0  Entertainment\n",
       "1        1        0         Social\n",
       "2        2        0         Social\n",
       "3        3        0          Money\n",
       "4        4        0         Social"
      ]
     },
     "execution_count": 60,
     "metadata": {},
     "output_type": "execute_result"
    }
   ],
   "source": [
    "top_categories.head()"
   ]
  },
  {
   "cell_type": "markdown",
   "id": "138f6bea-5504-448d-a65f-0208799b6d0b",
   "metadata": {},
   "source": [
    "#### level_1 col created to indicate if the user has just one top category or multiple"
   ]
  },
  {
   "cell_type": "code",
   "execution_count": 62,
   "id": "3e3bd644-2002-4694-a169-0fa8d3acec66",
   "metadata": {},
   "outputs": [
    {
     "data": {
      "text/html": [
       "<div>\n",
       "<style scoped>\n",
       "    .dataframe tbody tr th:only-of-type {\n",
       "        vertical-align: middle;\n",
       "    }\n",
       "\n",
       "    .dataframe tbody tr th {\n",
       "        vertical-align: top;\n",
       "    }\n",
       "\n",
       "    .dataframe thead th {\n",
       "        text-align: right;\n",
       "    }\n",
       "</style>\n",
       "<table border=\"1\" class=\"dataframe\">\n",
       "  <thead>\n",
       "    <tr style=\"text-align: right;\">\n",
       "      <th></th>\n",
       "      <th>user_id</th>\n",
       "      <th>level_1</th>\n",
       "      <th>app_category</th>\n",
       "    </tr>\n",
       "  </thead>\n",
       "  <tbody>\n",
       "    <tr>\n",
       "      <th>36</th>\n",
       "      <td>35</td>\n",
       "      <td>1</td>\n",
       "      <td>Utility</td>\n",
       "    </tr>\n",
       "    <tr>\n",
       "      <th>134</th>\n",
       "      <td>132</td>\n",
       "      <td>1</td>\n",
       "      <td>Utility</td>\n",
       "    </tr>\n",
       "    <tr>\n",
       "      <th>226</th>\n",
       "      <td>223</td>\n",
       "      <td>1</td>\n",
       "      <td>Social</td>\n",
       "    </tr>\n",
       "  </tbody>\n",
       "</table>\n",
       "</div>"
      ],
      "text/plain": [
       "     user_id  level_1 app_category\n",
       "36        35        1      Utility\n",
       "134      132        1      Utility\n",
       "226      223        1       Social"
      ]
     },
     "execution_count": 62,
     "metadata": {},
     "output_type": "execute_result"
    }
   ],
   "source": [
    "# check the users that have multiple top categories\n",
    "top_categories[top_categories[\"level_1\"] > 0]"
   ]
  },
  {
   "cell_type": "code",
   "execution_count": 63,
   "id": "23d3bd9b-5942-45b5-ae85-3fd3be5838b5",
   "metadata": {},
   "outputs": [
    {
     "data": {
      "text/html": [
       "<div>\n",
       "<style scoped>\n",
       "    .dataframe tbody tr th:only-of-type {\n",
       "        vertical-align: middle;\n",
       "    }\n",
       "\n",
       "    .dataframe tbody tr th {\n",
       "        vertical-align: top;\n",
       "    }\n",
       "\n",
       "    .dataframe thead th {\n",
       "        text-align: right;\n",
       "    }\n",
       "</style>\n",
       "<table border=\"1\" class=\"dataframe\">\n",
       "  <thead>\n",
       "    <tr style=\"text-align: right;\">\n",
       "      <th></th>\n",
       "      <th>user_id</th>\n",
       "      <th>level_1</th>\n",
       "      <th>app_category</th>\n",
       "    </tr>\n",
       "  </thead>\n",
       "  <tbody>\n",
       "    <tr>\n",
       "      <th>35</th>\n",
       "      <td>35</td>\n",
       "      <td>0</td>\n",
       "      <td>Social</td>\n",
       "    </tr>\n",
       "    <tr>\n",
       "      <th>36</th>\n",
       "      <td>35</td>\n",
       "      <td>1</td>\n",
       "      <td>Utility</td>\n",
       "    </tr>\n",
       "    <tr>\n",
       "      <th>133</th>\n",
       "      <td>132</td>\n",
       "      <td>0</td>\n",
       "      <td>Social</td>\n",
       "    </tr>\n",
       "    <tr>\n",
       "      <th>134</th>\n",
       "      <td>132</td>\n",
       "      <td>1</td>\n",
       "      <td>Utility</td>\n",
       "    </tr>\n",
       "    <tr>\n",
       "      <th>225</th>\n",
       "      <td>223</td>\n",
       "      <td>0</td>\n",
       "      <td>Browsing</td>\n",
       "    </tr>\n",
       "    <tr>\n",
       "      <th>226</th>\n",
       "      <td>223</td>\n",
       "      <td>1</td>\n",
       "      <td>Social</td>\n",
       "    </tr>\n",
       "  </tbody>\n",
       "</table>\n",
       "</div>"
      ],
      "text/plain": [
       "     user_id  level_1 app_category\n",
       "35        35        0       Social\n",
       "36        35        1      Utility\n",
       "133      132        0       Social\n",
       "134      132        1      Utility\n",
       "225      223        0     Browsing\n",
       "226      223        1       Social"
      ]
     },
     "execution_count": 63,
     "metadata": {},
     "output_type": "execute_result"
    }
   ],
   "source": [
    "top_categories[top_categories[\"user_id\"].isin([35, 223, 132])]"
   ]
  },
  {
   "cell_type": "code",
   "execution_count": 64,
   "id": "1468d655-c47c-4b19-b4a1-ae162906caec",
   "metadata": {},
   "outputs": [
    {
     "data": {
      "text/plain": [
       "app_category   app_name                \n",
       "Browsing       Google Chrome               21\n",
       "               Samsung Internet Browser     1\n",
       "Entertainment  Google Play Store            6\n",
       "Social         Gmail                       17\n",
       "               Telegram                     7\n",
       "Utility        Camera                       4\n",
       "               Samsung Gallery              5\n",
       "               Samsung Notes                1\n",
       "               Settings                    14\n",
       "dtype: int64"
      ]
     },
     "execution_count": 64,
     "metadata": {},
     "output_type": "execute_result"
    }
   ],
   "source": [
    "(\n",
    "    app_data_merged[app_data_merged[\"user_id\"] == 35]\n",
    "    .groupby([\"app_category\", \"app_name\"])\n",
    "    .size()\n",
    ")"
   ]
  },
  {
   "cell_type": "code",
   "execution_count": 65,
   "id": "589547f6-b569-4557-a342-37bff272d92c",
   "metadata": {},
   "outputs": [],
   "source": [
    "# drop the Utilty as a top category for user 35 and user 132.\n",
    "top_categories = (\n",
    "    top_categories.drop(\n",
    "        index=top_categories[(top_categories[\"user_id\"].isin([35, 132]))\n",
    "        & (top_categories[\"app_category\"] == \"Utility\")].index\n",
    ")\n",
    ")"
   ]
  },
  {
   "cell_type": "code",
   "execution_count": 66,
   "id": "d458b61b-1b88-4b5d-a659-92943f4f5425",
   "metadata": {},
   "outputs": [
    {
     "data": {
      "text/plain": [
       "app_category   app_name          \n",
       "Browsing       Google                19\n",
       "               Google Chrome          3\n",
       "Entertainment  Google Play Store      9\n",
       "Social         Facebook               8\n",
       "               Facebook Messenger     7\n",
       "               Gmail                  1\n",
       "               TextNow                6\n",
       "Utility        Settings               5\n",
       "dtype: int64"
      ]
     },
     "execution_count": 66,
     "metadata": {},
     "output_type": "execute_result"
    }
   ],
   "source": [
    "(\n",
    "    app_data_merged[app_data_merged[\"user_id\"] == 223]\n",
    "    .groupby([\"app_category\", \"app_name\"])\n",
    "    .size()\n",
    ")"
   ]
  },
  {
   "cell_type": "code",
   "execution_count": 67,
   "id": "805117a9-b26f-452b-9e48-b9c952828a5f",
   "metadata": {},
   "outputs": [],
   "source": [
    "# drop the Browsing as a top category for user 223.\n",
    "top_categories = (\n",
    "    top_categories.drop(\n",
    "        index=top_categories[(top_categories[\"user_id\"] == 223)\n",
    "        & (top_categories[\"app_category\"] == \"Browsing\")].index\n",
    ")\n",
    ")"
   ]
  },
  {
   "cell_type": "code",
   "execution_count": 68,
   "id": "641a7484-1033-4315-a709-ad0f3aac96eb",
   "metadata": {},
   "outputs": [
    {
     "data": {
      "text/plain": [
       "Series([], Name: count, dtype: int64)"
      ]
     },
     "execution_count": 68,
     "metadata": {},
     "output_type": "execute_result"
    }
   ],
   "source": [
    "top_categories[\"user_id\"].value_counts().loc[lambda x: x > 1]"
   ]
  },
  {
   "cell_type": "markdown",
   "id": "19cafbee-364e-4296-82ce-fa703527d655",
   "metadata": {},
   "source": [
    "### Create the one-hot encoded version of our “top app category per user” data"
   ]
  },
  {
   "cell_type": "code",
   "execution_count": 69,
   "id": "d0b34424-e13e-4e19-a7cb-4b7fbf5e1fa4",
   "metadata": {},
   "outputs": [],
   "source": [
    "top_categories = (\n",
    "    pd.get_dummies(top_categories,\n",
    "                   columns=[\"app_category\"]).drop(columns=[\"level_1\"])\n",
    ")"
   ]
  },
  {
   "cell_type": "code",
   "execution_count": 70,
   "id": "d90bc24a-df35-4ff2-8c1d-015d11fe2847",
   "metadata": {},
   "outputs": [
    {
     "data": {
      "text/html": [
       "<div>\n",
       "<style scoped>\n",
       "    .dataframe tbody tr th:only-of-type {\n",
       "        vertical-align: middle;\n",
       "    }\n",
       "\n",
       "    .dataframe tbody tr th {\n",
       "        vertical-align: top;\n",
       "    }\n",
       "\n",
       "    .dataframe thead th {\n",
       "        text-align: right;\n",
       "    }\n",
       "</style>\n",
       "<table border=\"1\" class=\"dataframe\">\n",
       "  <thead>\n",
       "    <tr style=\"text-align: right;\">\n",
       "      <th></th>\n",
       "      <th>user_id</th>\n",
       "      <th>app_category_Browsing</th>\n",
       "      <th>app_category_Entertainment</th>\n",
       "      <th>app_category_Money</th>\n",
       "      <th>app_category_Social</th>\n",
       "      <th>app_category_Utility</th>\n",
       "    </tr>\n",
       "  </thead>\n",
       "  <tbody>\n",
       "    <tr>\n",
       "      <th>0</th>\n",
       "      <td>0</td>\n",
       "      <td>False</td>\n",
       "      <td>True</td>\n",
       "      <td>False</td>\n",
       "      <td>False</td>\n",
       "      <td>False</td>\n",
       "    </tr>\n",
       "    <tr>\n",
       "      <th>1</th>\n",
       "      <td>1</td>\n",
       "      <td>False</td>\n",
       "      <td>False</td>\n",
       "      <td>False</td>\n",
       "      <td>True</td>\n",
       "      <td>False</td>\n",
       "    </tr>\n",
       "    <tr>\n",
       "      <th>2</th>\n",
       "      <td>2</td>\n",
       "      <td>False</td>\n",
       "      <td>False</td>\n",
       "      <td>False</td>\n",
       "      <td>True</td>\n",
       "      <td>False</td>\n",
       "    </tr>\n",
       "    <tr>\n",
       "      <th>3</th>\n",
       "      <td>3</td>\n",
       "      <td>False</td>\n",
       "      <td>False</td>\n",
       "      <td>True</td>\n",
       "      <td>False</td>\n",
       "      <td>False</td>\n",
       "    </tr>\n",
       "    <tr>\n",
       "      <th>4</th>\n",
       "      <td>4</td>\n",
       "      <td>False</td>\n",
       "      <td>False</td>\n",
       "      <td>False</td>\n",
       "      <td>True</td>\n",
       "      <td>False</td>\n",
       "    </tr>\n",
       "  </tbody>\n",
       "</table>\n",
       "</div>"
      ],
      "text/plain": [
       "   user_id  app_category_Browsing  app_category_Entertainment  \\\n",
       "0        0                  False                        True   \n",
       "1        1                  False                       False   \n",
       "2        2                  False                       False   \n",
       "3        3                  False                       False   \n",
       "4        4                  False                       False   \n",
       "\n",
       "   app_category_Money  app_category_Social  app_category_Utility  \n",
       "0               False                False                 False  \n",
       "1               False                 True                 False  \n",
       "2               False                 True                 False  \n",
       "3                True                False                 False  \n",
       "4               False                 True                 False  "
      ]
     },
     "execution_count": 70,
     "metadata": {},
     "output_type": "execute_result"
    }
   ],
   "source": [
    "top_categories.head()"
   ]
  },
  {
   "cell_type": "markdown",
   "id": "034220ca-dc44-421e-925d-7a36c2c9a115",
   "metadata": {},
   "source": [
    "#### We will merge the most frequent app category data and the most frequent browsing time data to build up our user-level dataset"
   ]
  },
  {
   "cell_type": "code",
   "execution_count": 71,
   "id": "b46ed4b9-a8e5-41f2-8898-eb73eaf115f5",
   "metadata": {},
   "outputs": [
    {
     "data": {
      "text/html": [
       "<div>\n",
       "<style scoped>\n",
       "    .dataframe tbody tr th:only-of-type {\n",
       "        vertical-align: middle;\n",
       "    }\n",
       "\n",
       "    .dataframe tbody tr th {\n",
       "        vertical-align: top;\n",
       "    }\n",
       "\n",
       "    .dataframe thead th {\n",
       "        text-align: right;\n",
       "    }\n",
       "</style>\n",
       "<table border=\"1\" class=\"dataframe\">\n",
       "  <thead>\n",
       "    <tr style=\"text-align: right;\">\n",
       "      <th></th>\n",
       "      <th>user_id</th>\n",
       "      <th>time_night_owl</th>\n",
       "      <th>time_early_morning_browser</th>\n",
       "      <th>time_midday_browser</th>\n",
       "      <th>time_late_day_browser</th>\n",
       "    </tr>\n",
       "  </thead>\n",
       "  <tbody>\n",
       "    <tr>\n",
       "      <th>0</th>\n",
       "      <td>0</td>\n",
       "      <td>True</td>\n",
       "      <td>False</td>\n",
       "      <td>False</td>\n",
       "      <td>True</td>\n",
       "    </tr>\n",
       "    <tr>\n",
       "      <th>1</th>\n",
       "      <td>1</td>\n",
       "      <td>False</td>\n",
       "      <td>False</td>\n",
       "      <td>False</td>\n",
       "      <td>True</td>\n",
       "    </tr>\n",
       "    <tr>\n",
       "      <th>2</th>\n",
       "      <td>2</td>\n",
       "      <td>False</td>\n",
       "      <td>True</td>\n",
       "      <td>False</td>\n",
       "      <td>False</td>\n",
       "    </tr>\n",
       "    <tr>\n",
       "      <th>3</th>\n",
       "      <td>3</td>\n",
       "      <td>False</td>\n",
       "      <td>False</td>\n",
       "      <td>False</td>\n",
       "      <td>True</td>\n",
       "    </tr>\n",
       "    <tr>\n",
       "      <th>4</th>\n",
       "      <td>4</td>\n",
       "      <td>True</td>\n",
       "      <td>False</td>\n",
       "      <td>False</td>\n",
       "      <td>False</td>\n",
       "    </tr>\n",
       "  </tbody>\n",
       "</table>\n",
       "</div>"
      ],
      "text/plain": [
       "   user_id  time_night_owl  time_early_morning_browser  time_midday_browser  \\\n",
       "0        0            True                       False                False   \n",
       "1        1           False                       False                False   \n",
       "2        2           False                        True                False   \n",
       "3        3           False                       False                False   \n",
       "4        4            True                       False                False   \n",
       "\n",
       "   time_late_day_browser  \n",
       "0                   True  \n",
       "1                   True  \n",
       "2                  False  \n",
       "3                   True  \n",
       "4                  False  "
      ]
     },
     "execution_count": 71,
     "metadata": {},
     "output_type": "execute_result"
    }
   ],
   "source": [
    "users.head()"
   ]
  },
  {
   "cell_type": "code",
   "execution_count": 72,
   "id": "7b5139b7-98da-4aee-b9c4-ee9e32a4a62e",
   "metadata": {},
   "outputs": [],
   "source": [
    "size_before = len(users)"
   ]
  },
  {
   "cell_type": "code",
   "execution_count": 73,
   "id": "14c83b3e-8786-497c-b3f2-875f44d5be7a",
   "metadata": {},
   "outputs": [
    {
     "data": {
      "text/plain": [
       "291"
      ]
     },
     "execution_count": 73,
     "metadata": {},
     "output_type": "execute_result"
    }
   ],
   "source": [
    "size_before"
   ]
  },
  {
   "cell_type": "code",
   "execution_count": 74,
   "id": "b9a3ee48-16d8-4f46-a18f-e6a07083efb8",
   "metadata": {},
   "outputs": [
    {
     "data": {
      "text/html": [
       "<div>\n",
       "<style scoped>\n",
       "    .dataframe tbody tr th:only-of-type {\n",
       "        vertical-align: middle;\n",
       "    }\n",
       "\n",
       "    .dataframe tbody tr th {\n",
       "        vertical-align: top;\n",
       "    }\n",
       "\n",
       "    .dataframe thead th {\n",
       "        text-align: right;\n",
       "    }\n",
       "</style>\n",
       "<table border=\"1\" class=\"dataframe\">\n",
       "  <thead>\n",
       "    <tr style=\"text-align: right;\">\n",
       "      <th></th>\n",
       "      <th>user_id</th>\n",
       "      <th>time_night_owl</th>\n",
       "      <th>time_early_morning_browser</th>\n",
       "      <th>time_midday_browser</th>\n",
       "      <th>time_late_day_browser</th>\n",
       "      <th>app_category_Browsing</th>\n",
       "      <th>app_category_Entertainment</th>\n",
       "      <th>app_category_Money</th>\n",
       "      <th>app_category_Social</th>\n",
       "      <th>app_category_Utility</th>\n",
       "    </tr>\n",
       "  </thead>\n",
       "  <tbody>\n",
       "    <tr>\n",
       "      <th>0</th>\n",
       "      <td>0</td>\n",
       "      <td>True</td>\n",
       "      <td>False</td>\n",
       "      <td>False</td>\n",
       "      <td>True</td>\n",
       "      <td>False</td>\n",
       "      <td>True</td>\n",
       "      <td>False</td>\n",
       "      <td>False</td>\n",
       "      <td>False</td>\n",
       "    </tr>\n",
       "    <tr>\n",
       "      <th>1</th>\n",
       "      <td>1</td>\n",
       "      <td>False</td>\n",
       "      <td>False</td>\n",
       "      <td>False</td>\n",
       "      <td>True</td>\n",
       "      <td>False</td>\n",
       "      <td>False</td>\n",
       "      <td>False</td>\n",
       "      <td>True</td>\n",
       "      <td>False</td>\n",
       "    </tr>\n",
       "    <tr>\n",
       "      <th>2</th>\n",
       "      <td>2</td>\n",
       "      <td>False</td>\n",
       "      <td>True</td>\n",
       "      <td>False</td>\n",
       "      <td>False</td>\n",
       "      <td>False</td>\n",
       "      <td>False</td>\n",
       "      <td>False</td>\n",
       "      <td>True</td>\n",
       "      <td>False</td>\n",
       "    </tr>\n",
       "    <tr>\n",
       "      <th>3</th>\n",
       "      <td>3</td>\n",
       "      <td>False</td>\n",
       "      <td>False</td>\n",
       "      <td>False</td>\n",
       "      <td>True</td>\n",
       "      <td>False</td>\n",
       "      <td>False</td>\n",
       "      <td>True</td>\n",
       "      <td>False</td>\n",
       "      <td>False</td>\n",
       "    </tr>\n",
       "    <tr>\n",
       "      <th>4</th>\n",
       "      <td>4</td>\n",
       "      <td>True</td>\n",
       "      <td>False</td>\n",
       "      <td>False</td>\n",
       "      <td>False</td>\n",
       "      <td>False</td>\n",
       "      <td>False</td>\n",
       "      <td>False</td>\n",
       "      <td>True</td>\n",
       "      <td>False</td>\n",
       "    </tr>\n",
       "  </tbody>\n",
       "</table>\n",
       "</div>"
      ],
      "text/plain": [
       "   user_id  time_night_owl  time_early_morning_browser  time_midday_browser  \\\n",
       "0        0            True                       False                False   \n",
       "1        1           False                       False                False   \n",
       "2        2           False                        True                False   \n",
       "3        3           False                       False                False   \n",
       "4        4            True                       False                False   \n",
       "\n",
       "   time_late_day_browser  app_category_Browsing  app_category_Entertainment  \\\n",
       "0                   True                  False                        True   \n",
       "1                   True                  False                       False   \n",
       "2                  False                  False                       False   \n",
       "3                   True                  False                       False   \n",
       "4                  False                  False                       False   \n",
       "\n",
       "   app_category_Money  app_category_Social  app_category_Utility  \n",
       "0               False                False                 False  \n",
       "1               False                 True                 False  \n",
       "2               False                 True                 False  \n",
       "3                True                False                 False  \n",
       "4               False                 True                 False  "
      ]
     },
     "execution_count": 74,
     "metadata": {},
     "output_type": "execute_result"
    }
   ],
   "source": [
    "users = users.merge(top_categories, on=\"user_id\")\n",
    "size_after = len(users)\n",
    "assert size_before == size_after\n",
    "users.head()"
   ]
  },
  {
   "cell_type": "code",
   "execution_count": 75,
   "id": "33044a50-cfac-4e6c-93e1-7033b15aa970",
   "metadata": {},
   "outputs": [],
   "source": [
    "# change column types from bool to int\n",
    "users = users.astype(int)"
   ]
  },
  {
   "cell_type": "code",
   "execution_count": 76,
   "id": "131587de-73be-4707-9a33-f9c66f000ddb",
   "metadata": {},
   "outputs": [
    {
     "data": {
      "text/html": [
       "<div>\n",
       "<style scoped>\n",
       "    .dataframe tbody tr th:only-of-type {\n",
       "        vertical-align: middle;\n",
       "    }\n",
       "\n",
       "    .dataframe tbody tr th {\n",
       "        vertical-align: top;\n",
       "    }\n",
       "\n",
       "    .dataframe thead th {\n",
       "        text-align: right;\n",
       "    }\n",
       "</style>\n",
       "<table border=\"1\" class=\"dataframe\">\n",
       "  <thead>\n",
       "    <tr style=\"text-align: right;\">\n",
       "      <th></th>\n",
       "      <th>user_id</th>\n",
       "      <th>time_night_owl</th>\n",
       "      <th>time_early_morning_browser</th>\n",
       "      <th>time_midday_browser</th>\n",
       "      <th>time_late_day_browser</th>\n",
       "      <th>app_category_Browsing</th>\n",
       "      <th>app_category_Entertainment</th>\n",
       "      <th>app_category_Money</th>\n",
       "      <th>app_category_Social</th>\n",
       "      <th>app_category_Utility</th>\n",
       "    </tr>\n",
       "  </thead>\n",
       "  <tbody>\n",
       "    <tr>\n",
       "      <th>0</th>\n",
       "      <td>0</td>\n",
       "      <td>1</td>\n",
       "      <td>0</td>\n",
       "      <td>0</td>\n",
       "      <td>1</td>\n",
       "      <td>0</td>\n",
       "      <td>1</td>\n",
       "      <td>0</td>\n",
       "      <td>0</td>\n",
       "      <td>0</td>\n",
       "    </tr>\n",
       "    <tr>\n",
       "      <th>1</th>\n",
       "      <td>1</td>\n",
       "      <td>0</td>\n",
       "      <td>0</td>\n",
       "      <td>0</td>\n",
       "      <td>1</td>\n",
       "      <td>0</td>\n",
       "      <td>0</td>\n",
       "      <td>0</td>\n",
       "      <td>1</td>\n",
       "      <td>0</td>\n",
       "    </tr>\n",
       "    <tr>\n",
       "      <th>2</th>\n",
       "      <td>2</td>\n",
       "      <td>0</td>\n",
       "      <td>1</td>\n",
       "      <td>0</td>\n",
       "      <td>0</td>\n",
       "      <td>0</td>\n",
       "      <td>0</td>\n",
       "      <td>0</td>\n",
       "      <td>1</td>\n",
       "      <td>0</td>\n",
       "    </tr>\n",
       "    <tr>\n",
       "      <th>3</th>\n",
       "      <td>3</td>\n",
       "      <td>0</td>\n",
       "      <td>0</td>\n",
       "      <td>0</td>\n",
       "      <td>1</td>\n",
       "      <td>0</td>\n",
       "      <td>0</td>\n",
       "      <td>1</td>\n",
       "      <td>0</td>\n",
       "      <td>0</td>\n",
       "    </tr>\n",
       "    <tr>\n",
       "      <th>4</th>\n",
       "      <td>4</td>\n",
       "      <td>1</td>\n",
       "      <td>0</td>\n",
       "      <td>0</td>\n",
       "      <td>0</td>\n",
       "      <td>0</td>\n",
       "      <td>0</td>\n",
       "      <td>0</td>\n",
       "      <td>1</td>\n",
       "      <td>0</td>\n",
       "    </tr>\n",
       "    <tr>\n",
       "      <th>...</th>\n",
       "      <td>...</td>\n",
       "      <td>...</td>\n",
       "      <td>...</td>\n",
       "      <td>...</td>\n",
       "      <td>...</td>\n",
       "      <td>...</td>\n",
       "      <td>...</td>\n",
       "      <td>...</td>\n",
       "      <td>...</td>\n",
       "      <td>...</td>\n",
       "    </tr>\n",
       "    <tr>\n",
       "      <th>286</th>\n",
       "      <td>287</td>\n",
       "      <td>1</td>\n",
       "      <td>0</td>\n",
       "      <td>0</td>\n",
       "      <td>0</td>\n",
       "      <td>0</td>\n",
       "      <td>0</td>\n",
       "      <td>0</td>\n",
       "      <td>1</td>\n",
       "      <td>0</td>\n",
       "    </tr>\n",
       "    <tr>\n",
       "      <th>287</th>\n",
       "      <td>288</td>\n",
       "      <td>0</td>\n",
       "      <td>1</td>\n",
       "      <td>1</td>\n",
       "      <td>1</td>\n",
       "      <td>0</td>\n",
       "      <td>0</td>\n",
       "      <td>0</td>\n",
       "      <td>0</td>\n",
       "      <td>1</td>\n",
       "    </tr>\n",
       "    <tr>\n",
       "      <th>288</th>\n",
       "      <td>289</td>\n",
       "      <td>0</td>\n",
       "      <td>1</td>\n",
       "      <td>0</td>\n",
       "      <td>0</td>\n",
       "      <td>0</td>\n",
       "      <td>0</td>\n",
       "      <td>1</td>\n",
       "      <td>0</td>\n",
       "      <td>0</td>\n",
       "    </tr>\n",
       "    <tr>\n",
       "      <th>289</th>\n",
       "      <td>290</td>\n",
       "      <td>0</td>\n",
       "      <td>0</td>\n",
       "      <td>1</td>\n",
       "      <td>0</td>\n",
       "      <td>0</td>\n",
       "      <td>0</td>\n",
       "      <td>0</td>\n",
       "      <td>1</td>\n",
       "      <td>0</td>\n",
       "    </tr>\n",
       "    <tr>\n",
       "      <th>290</th>\n",
       "      <td>291</td>\n",
       "      <td>1</td>\n",
       "      <td>0</td>\n",
       "      <td>0</td>\n",
       "      <td>0</td>\n",
       "      <td>0</td>\n",
       "      <td>0</td>\n",
       "      <td>0</td>\n",
       "      <td>1</td>\n",
       "      <td>0</td>\n",
       "    </tr>\n",
       "  </tbody>\n",
       "</table>\n",
       "<p>291 rows × 10 columns</p>\n",
       "</div>"
      ],
      "text/plain": [
       "     user_id  time_night_owl  time_early_morning_browser  time_midday_browser  \\\n",
       "0          0               1                           0                    0   \n",
       "1          1               0                           0                    0   \n",
       "2          2               0                           1                    0   \n",
       "3          3               0                           0                    0   \n",
       "4          4               1                           0                    0   \n",
       "..       ...             ...                         ...                  ...   \n",
       "286      287               1                           0                    0   \n",
       "287      288               0                           1                    1   \n",
       "288      289               0                           1                    0   \n",
       "289      290               0                           0                    1   \n",
       "290      291               1                           0                    0   \n",
       "\n",
       "     time_late_day_browser  app_category_Browsing  app_category_Entertainment  \\\n",
       "0                        1                      0                           1   \n",
       "1                        1                      0                           0   \n",
       "2                        0                      0                           0   \n",
       "3                        1                      0                           0   \n",
       "4                        0                      0                           0   \n",
       "..                     ...                    ...                         ...   \n",
       "286                      0                      0                           0   \n",
       "287                      1                      0                           0   \n",
       "288                      0                      0                           0   \n",
       "289                      0                      0                           0   \n",
       "290                      0                      0                           0   \n",
       "\n",
       "     app_category_Money  app_category_Social  app_category_Utility  \n",
       "0                     0                    0                     0  \n",
       "1                     0                    1                     0  \n",
       "2                     0                    1                     0  \n",
       "3                     1                    0                     0  \n",
       "4                     0                    1                     0  \n",
       "..                  ...                  ...                   ...  \n",
       "286                   0                    1                     0  \n",
       "287                   0                    0                     1  \n",
       "288                   1                    0                     0  \n",
       "289                   0                    1                     0  \n",
       "290                   0                    1                     0  \n",
       "\n",
       "[291 rows x 10 columns]"
      ]
     },
     "execution_count": 76,
     "metadata": {},
     "output_type": "execute_result"
    }
   ],
   "source": [
    "users"
   ]
  },
  {
   "cell_type": "markdown",
   "id": "921144de-bcd9-4ec8-9291-201f947d26d3",
   "metadata": {},
   "source": [
    "### Counts the number of unique apps and sessions per user and produces a dataset"
   ]
  },
  {
   "cell_type": "code",
   "execution_count": 77,
   "id": "06eb1759-51d2-46fc-85a9-b48eebc4bdd8",
   "metadata": {},
   "outputs": [
    {
     "data": {
      "text/html": [
       "<div>\n",
       "<style scoped>\n",
       "    .dataframe tbody tr th:only-of-type {\n",
       "        vertical-align: middle;\n",
       "    }\n",
       "\n",
       "    .dataframe tbody tr th {\n",
       "        vertical-align: top;\n",
       "    }\n",
       "\n",
       "    .dataframe thead th {\n",
       "        text-align: right;\n",
       "    }\n",
       "</style>\n",
       "<table border=\"1\" class=\"dataframe\">\n",
       "  <thead>\n",
       "    <tr style=\"text-align: right;\">\n",
       "      <th></th>\n",
       "      <th>user_id</th>\n",
       "      <th>number_of_apps</th>\n",
       "      <th>number_of_sessions</th>\n",
       "    </tr>\n",
       "  </thead>\n",
       "  <tbody>\n",
       "    <tr>\n",
       "      <th>0</th>\n",
       "      <td>0</td>\n",
       "      <td>19</td>\n",
       "      <td>238</td>\n",
       "    </tr>\n",
       "    <tr>\n",
       "      <th>1</th>\n",
       "      <td>1</td>\n",
       "      <td>18</td>\n",
       "      <td>88</td>\n",
       "    </tr>\n",
       "    <tr>\n",
       "      <th>2</th>\n",
       "      <td>2</td>\n",
       "      <td>16</td>\n",
       "      <td>61</td>\n",
       "    </tr>\n",
       "    <tr>\n",
       "      <th>3</th>\n",
       "      <td>3</td>\n",
       "      <td>15</td>\n",
       "      <td>70</td>\n",
       "    </tr>\n",
       "    <tr>\n",
       "      <th>4</th>\n",
       "      <td>4</td>\n",
       "      <td>8</td>\n",
       "      <td>45</td>\n",
       "    </tr>\n",
       "  </tbody>\n",
       "</table>\n",
       "</div>"
      ],
      "text/plain": [
       "   user_id  number_of_apps  number_of_sessions\n",
       "0        0              19                 238\n",
       "1        1              18                  88\n",
       "2        2              16                  61\n",
       "3        3              15                  70\n",
       "4        4               8                  45"
      ]
     },
     "execution_count": 77,
     "metadata": {},
     "output_type": "execute_result"
    }
   ],
   "source": [
    "\n",
    "user_metrics = (\n",
    "    app_data_merged\n",
    "    .groupby([\"user_id\"])\n",
    "    .agg(\n",
    "    number_of_apps=(\"app_name\", \"nunique\"),\n",
    "    number_of_sessions=(\"session_id\", \"nunique\")\n",
    "    )\n",
    "    .reset_index()\n",
    ")\n",
    "user_metrics.head()"
   ]
  },
  {
   "cell_type": "code",
   "execution_count": 78,
   "id": "a9fca18d-d4d2-40a7-bceb-69423acd434b",
   "metadata": {},
   "outputs": [],
   "source": [
    "size_before = len(users)\n",
    "users = users.merge(user_metrics, on=\"user_id\")\n",
    "size_after = len(users)\n",
    "assert size_before == size_after"
   ]
  },
  {
   "cell_type": "markdown",
   "id": "28c9ff53-2696-4f80-8e5f-61f7aadcdf15",
   "metadata": {},
   "source": [
    "### Add the average session length column to our users dataset"
   ]
  },
  {
   "cell_type": "code",
   "execution_count": 83,
   "id": "b11a9df0-c44f-4ee0-9471-c700d8d20021",
   "metadata": {},
   "outputs": [
    {
     "data": {
      "text/html": [
       "<div>\n",
       "<style scoped>\n",
       "    .dataframe tbody tr th:only-of-type {\n",
       "        vertical-align: middle;\n",
       "    }\n",
       "\n",
       "    .dataframe tbody tr th {\n",
       "        vertical-align: top;\n",
       "    }\n",
       "\n",
       "    .dataframe thead th {\n",
       "        text-align: right;\n",
       "    }\n",
       "</style>\n",
       "<table border=\"1\" class=\"dataframe\">\n",
       "  <thead>\n",
       "    <tr style=\"text-align: right;\">\n",
       "      <th></th>\n",
       "      <th>user_id</th>\n",
       "      <th>avg_session_length</th>\n",
       "    </tr>\n",
       "  </thead>\n",
       "  <tbody>\n",
       "    <tr>\n",
       "      <th>0</th>\n",
       "      <td>0</td>\n",
       "      <td>0.658333</td>\n",
       "    </tr>\n",
       "    <tr>\n",
       "      <th>1</th>\n",
       "      <td>1</td>\n",
       "      <td>1.483333</td>\n",
       "    </tr>\n",
       "    <tr>\n",
       "      <th>2</th>\n",
       "      <td>2</td>\n",
       "      <td>0.533333</td>\n",
       "    </tr>\n",
       "    <tr>\n",
       "      <th>3</th>\n",
       "      <td>3</td>\n",
       "      <td>0.116667</td>\n",
       "    </tr>\n",
       "    <tr>\n",
       "      <th>4</th>\n",
       "      <td>4</td>\n",
       "      <td>0.233333</td>\n",
       "    </tr>\n",
       "  </tbody>\n",
       "</table>\n",
       "</div>"
      ],
      "text/plain": [
       "   user_id  avg_session_length\n",
       "0        0            0.658333\n",
       "1        1            1.483333\n",
       "2        2            0.533333\n",
       "3        3            0.116667\n",
       "4        4            0.233333"
      ]
     },
     "execution_count": 83,
     "metadata": {},
     "output_type": "execute_result"
    }
   ],
   "source": [
    "\n",
    "avg_sessions = (\n",
    "    sessions\n",
    "    .groupby(\"user_id\")\n",
    "    .agg(avg_session_length=(\"duration_mins\", \"median\"))\n",
    "    .reset_index()\n",
    ")\n",
    "\n",
    "avg_sessions.head()"
   ]
  },
  {
   "cell_type": "code",
   "execution_count": 84,
   "id": "15adc39d-ae33-4e35-adb4-4ddec8441a00",
   "metadata": {},
   "outputs": [],
   "source": [
    "# Again merge the previous data with users dataset.\n",
    "size_before = len(users)\n",
    "users = users.merge(avg_sessions, on=\"user_id\")\n",
    "size_after = len(users)\n",
    "assert size_before == size_after"
   ]
  },
  {
   "cell_type": "code",
   "execution_count": 85,
   "id": "df0bab90-4670-4d73-894f-aa23aa9a89c2",
   "metadata": {},
   "outputs": [
    {
     "data": {
      "text/plain": [
       "Index(['user_id', 'time_night_owl', 'time_early_morning_browser',\n",
       "       'time_midday_browser', 'time_late_day_browser', 'app_category_Browsing',\n",
       "       'app_category_Entertainment', 'app_category_Money',\n",
       "       'app_category_Social', 'app_category_Utility', 'number_of_apps',\n",
       "       'number_of_sessions', 'avg_session_length_x', 'avg_session_length_y',\n",
       "       'avg_session_length'],\n",
       "      dtype='object')"
      ]
     },
     "execution_count": 85,
     "metadata": {},
     "output_type": "execute_result"
    }
   ],
   "source": [
    "users.columns"
   ]
  },
  {
   "cell_type": "code",
   "execution_count": 86,
   "id": "b3888833-1766-4be0-9874-5f974a2c9e16",
   "metadata": {},
   "outputs": [
    {
     "data": {
      "text/html": [
       "<div>\n",
       "<style scoped>\n",
       "    .dataframe tbody tr th:only-of-type {\n",
       "        vertical-align: middle;\n",
       "    }\n",
       "\n",
       "    .dataframe tbody tr th {\n",
       "        vertical-align: top;\n",
       "    }\n",
       "\n",
       "    .dataframe thead th {\n",
       "        text-align: right;\n",
       "    }\n",
       "</style>\n",
       "<table border=\"1\" class=\"dataframe\">\n",
       "  <thead>\n",
       "    <tr style=\"text-align: right;\">\n",
       "      <th></th>\n",
       "      <th>user_id</th>\n",
       "      <th>time_night_owl</th>\n",
       "      <th>time_early_morning_browser</th>\n",
       "      <th>time_midday_browser</th>\n",
       "      <th>time_late_day_browser</th>\n",
       "      <th>app_category_Browsing</th>\n",
       "      <th>app_category_Entertainment</th>\n",
       "      <th>app_category_Money</th>\n",
       "      <th>app_category_Social</th>\n",
       "      <th>app_category_Utility</th>\n",
       "      <th>number_of_apps</th>\n",
       "      <th>number_of_sessions</th>\n",
       "      <th>avg_session_length_x</th>\n",
       "      <th>avg_session_length_y</th>\n",
       "      <th>avg_session_length</th>\n",
       "    </tr>\n",
       "  </thead>\n",
       "  <tbody>\n",
       "    <tr>\n",
       "      <th>0</th>\n",
       "      <td>0</td>\n",
       "      <td>1</td>\n",
       "      <td>0</td>\n",
       "      <td>0</td>\n",
       "      <td>1</td>\n",
       "      <td>0</td>\n",
       "      <td>1</td>\n",
       "      <td>0</td>\n",
       "      <td>0</td>\n",
       "      <td>0</td>\n",
       "      <td>19</td>\n",
       "      <td>238</td>\n",
       "      <td>0.658333</td>\n",
       "      <td>0.658333</td>\n",
       "      <td>0.658333</td>\n",
       "    </tr>\n",
       "    <tr>\n",
       "      <th>1</th>\n",
       "      <td>1</td>\n",
       "      <td>0</td>\n",
       "      <td>0</td>\n",
       "      <td>0</td>\n",
       "      <td>1</td>\n",
       "      <td>0</td>\n",
       "      <td>0</td>\n",
       "      <td>0</td>\n",
       "      <td>1</td>\n",
       "      <td>0</td>\n",
       "      <td>18</td>\n",
       "      <td>88</td>\n",
       "      <td>1.483333</td>\n",
       "      <td>1.483333</td>\n",
       "      <td>1.483333</td>\n",
       "    </tr>\n",
       "    <tr>\n",
       "      <th>2</th>\n",
       "      <td>2</td>\n",
       "      <td>0</td>\n",
       "      <td>1</td>\n",
       "      <td>0</td>\n",
       "      <td>0</td>\n",
       "      <td>0</td>\n",
       "      <td>0</td>\n",
       "      <td>0</td>\n",
       "      <td>1</td>\n",
       "      <td>0</td>\n",
       "      <td>16</td>\n",
       "      <td>61</td>\n",
       "      <td>0.533333</td>\n",
       "      <td>0.533333</td>\n",
       "      <td>0.533333</td>\n",
       "    </tr>\n",
       "    <tr>\n",
       "      <th>3</th>\n",
       "      <td>3</td>\n",
       "      <td>0</td>\n",
       "      <td>0</td>\n",
       "      <td>0</td>\n",
       "      <td>1</td>\n",
       "      <td>0</td>\n",
       "      <td>0</td>\n",
       "      <td>1</td>\n",
       "      <td>0</td>\n",
       "      <td>0</td>\n",
       "      <td>15</td>\n",
       "      <td>70</td>\n",
       "      <td>0.116667</td>\n",
       "      <td>0.116667</td>\n",
       "      <td>0.116667</td>\n",
       "    </tr>\n",
       "    <tr>\n",
       "      <th>4</th>\n",
       "      <td>4</td>\n",
       "      <td>1</td>\n",
       "      <td>0</td>\n",
       "      <td>0</td>\n",
       "      <td>0</td>\n",
       "      <td>0</td>\n",
       "      <td>0</td>\n",
       "      <td>0</td>\n",
       "      <td>1</td>\n",
       "      <td>0</td>\n",
       "      <td>8</td>\n",
       "      <td>45</td>\n",
       "      <td>0.233333</td>\n",
       "      <td>0.233333</td>\n",
       "      <td>0.233333</td>\n",
       "    </tr>\n",
       "  </tbody>\n",
       "</table>\n",
       "</div>"
      ],
      "text/plain": [
       "   user_id  time_night_owl  time_early_morning_browser  time_midday_browser  \\\n",
       "0        0               1                           0                    0   \n",
       "1        1               0                           0                    0   \n",
       "2        2               0                           1                    0   \n",
       "3        3               0                           0                    0   \n",
       "4        4               1                           0                    0   \n",
       "\n",
       "   time_late_day_browser  app_category_Browsing  app_category_Entertainment  \\\n",
       "0                      1                      0                           1   \n",
       "1                      1                      0                           0   \n",
       "2                      0                      0                           0   \n",
       "3                      1                      0                           0   \n",
       "4                      0                      0                           0   \n",
       "\n",
       "   app_category_Money  app_category_Social  app_category_Utility  \\\n",
       "0                   0                    0                     0   \n",
       "1                   0                    1                     0   \n",
       "2                   0                    1                     0   \n",
       "3                   1                    0                     0   \n",
       "4                   0                    1                     0   \n",
       "\n",
       "   number_of_apps  number_of_sessions  avg_session_length_x  \\\n",
       "0              19                 238              0.658333   \n",
       "1              18                  88              1.483333   \n",
       "2              16                  61              0.533333   \n",
       "3              15                  70              0.116667   \n",
       "4               8                  45              0.233333   \n",
       "\n",
       "   avg_session_length_y  avg_session_length  \n",
       "0              0.658333            0.658333  \n",
       "1              1.483333            1.483333  \n",
       "2              0.533333            0.533333  \n",
       "3              0.116667            0.116667  \n",
       "4              0.233333            0.233333  "
      ]
     },
     "execution_count": 86,
     "metadata": {},
     "output_type": "execute_result"
    }
   ],
   "source": [
    "users.head()"
   ]
  },
  {
   "cell_type": "code",
   "execution_count": 88,
   "id": "ff3c51c4-ae2a-4abc-9434-fbe7f9de08b3",
   "metadata": {},
   "outputs": [],
   "source": [
    "del users['avg_session_length_x']"
   ]
  },
  {
   "cell_type": "code",
   "execution_count": 89,
   "id": "11d7d67c-aaef-4946-bc9c-f9ec3b530dcd",
   "metadata": {},
   "outputs": [],
   "source": [
    "del users['avg_session_length_y']"
   ]
  },
  {
   "cell_type": "markdown",
   "id": "bc8c4386-510c-4f72-86e7-007f44054170",
   "metadata": {},
   "source": [
    "### The final dataset (Ready for clustring)"
   ]
  },
  {
   "cell_type": "code",
   "execution_count": 90,
   "id": "992f82ef-55ee-4558-a9b4-9e2935c0acbf",
   "metadata": {
    "scrolled": true
   },
   "outputs": [
    {
     "data": {
      "text/html": [
       "<div>\n",
       "<style scoped>\n",
       "    .dataframe tbody tr th:only-of-type {\n",
       "        vertical-align: middle;\n",
       "    }\n",
       "\n",
       "    .dataframe tbody tr th {\n",
       "        vertical-align: top;\n",
       "    }\n",
       "\n",
       "    .dataframe thead th {\n",
       "        text-align: right;\n",
       "    }\n",
       "</style>\n",
       "<table border=\"1\" class=\"dataframe\">\n",
       "  <thead>\n",
       "    <tr style=\"text-align: right;\">\n",
       "      <th></th>\n",
       "      <th>user_id</th>\n",
       "      <th>time_night_owl</th>\n",
       "      <th>time_early_morning_browser</th>\n",
       "      <th>time_midday_browser</th>\n",
       "      <th>time_late_day_browser</th>\n",
       "      <th>app_category_Browsing</th>\n",
       "      <th>app_category_Entertainment</th>\n",
       "      <th>app_category_Money</th>\n",
       "      <th>app_category_Social</th>\n",
       "      <th>app_category_Utility</th>\n",
       "      <th>number_of_apps</th>\n",
       "      <th>number_of_sessions</th>\n",
       "      <th>avg_session_length</th>\n",
       "    </tr>\n",
       "  </thead>\n",
       "  <tbody>\n",
       "    <tr>\n",
       "      <th>0</th>\n",
       "      <td>0</td>\n",
       "      <td>1</td>\n",
       "      <td>0</td>\n",
       "      <td>0</td>\n",
       "      <td>1</td>\n",
       "      <td>0</td>\n",
       "      <td>1</td>\n",
       "      <td>0</td>\n",
       "      <td>0</td>\n",
       "      <td>0</td>\n",
       "      <td>19</td>\n",
       "      <td>238</td>\n",
       "      <td>0.658333</td>\n",
       "    </tr>\n",
       "    <tr>\n",
       "      <th>1</th>\n",
       "      <td>1</td>\n",
       "      <td>0</td>\n",
       "      <td>0</td>\n",
       "      <td>0</td>\n",
       "      <td>1</td>\n",
       "      <td>0</td>\n",
       "      <td>0</td>\n",
       "      <td>0</td>\n",
       "      <td>1</td>\n",
       "      <td>0</td>\n",
       "      <td>18</td>\n",
       "      <td>88</td>\n",
       "      <td>1.483333</td>\n",
       "    </tr>\n",
       "    <tr>\n",
       "      <th>2</th>\n",
       "      <td>2</td>\n",
       "      <td>0</td>\n",
       "      <td>1</td>\n",
       "      <td>0</td>\n",
       "      <td>0</td>\n",
       "      <td>0</td>\n",
       "      <td>0</td>\n",
       "      <td>0</td>\n",
       "      <td>1</td>\n",
       "      <td>0</td>\n",
       "      <td>16</td>\n",
       "      <td>61</td>\n",
       "      <td>0.533333</td>\n",
       "    </tr>\n",
       "    <tr>\n",
       "      <th>3</th>\n",
       "      <td>3</td>\n",
       "      <td>0</td>\n",
       "      <td>0</td>\n",
       "      <td>0</td>\n",
       "      <td>1</td>\n",
       "      <td>0</td>\n",
       "      <td>0</td>\n",
       "      <td>1</td>\n",
       "      <td>0</td>\n",
       "      <td>0</td>\n",
       "      <td>15</td>\n",
       "      <td>70</td>\n",
       "      <td>0.116667</td>\n",
       "    </tr>\n",
       "    <tr>\n",
       "      <th>4</th>\n",
       "      <td>4</td>\n",
       "      <td>1</td>\n",
       "      <td>0</td>\n",
       "      <td>0</td>\n",
       "      <td>0</td>\n",
       "      <td>0</td>\n",
       "      <td>0</td>\n",
       "      <td>0</td>\n",
       "      <td>1</td>\n",
       "      <td>0</td>\n",
       "      <td>8</td>\n",
       "      <td>45</td>\n",
       "      <td>0.233333</td>\n",
       "    </tr>\n",
       "  </tbody>\n",
       "</table>\n",
       "</div>"
      ],
      "text/plain": [
       "   user_id  time_night_owl  time_early_morning_browser  time_midday_browser  \\\n",
       "0        0               1                           0                    0   \n",
       "1        1               0                           0                    0   \n",
       "2        2               0                           1                    0   \n",
       "3        3               0                           0                    0   \n",
       "4        4               1                           0                    0   \n",
       "\n",
       "   time_late_day_browser  app_category_Browsing  app_category_Entertainment  \\\n",
       "0                      1                      0                           1   \n",
       "1                      1                      0                           0   \n",
       "2                      0                      0                           0   \n",
       "3                      1                      0                           0   \n",
       "4                      0                      0                           0   \n",
       "\n",
       "   app_category_Money  app_category_Social  app_category_Utility  \\\n",
       "0                   0                    0                     0   \n",
       "1                   0                    1                     0   \n",
       "2                   0                    1                     0   \n",
       "3                   1                    0                     0   \n",
       "4                   0                    1                     0   \n",
       "\n",
       "   number_of_apps  number_of_sessions  avg_session_length  \n",
       "0              19                 238            0.658333  \n",
       "1              18                  88            1.483333  \n",
       "2              16                  61            0.533333  \n",
       "3              15                  70            0.116667  \n",
       "4               8                  45            0.233333  "
      ]
     },
     "execution_count": 90,
     "metadata": {},
     "output_type": "execute_result"
    }
   ],
   "source": [
    "users.head()"
   ]
  }
 ],
 "metadata": {
  "kernelspec": {
   "display_name": "Python 3 (ipykernel)",
   "language": "python",
   "name": "python3"
  },
  "language_info": {
   "codemirror_mode": {
    "name": "ipython",
    "version": 3
   },
   "file_extension": ".py",
   "mimetype": "text/x-python",
   "name": "python",
   "nbconvert_exporter": "python",
   "pygments_lexer": "ipython3",
   "version": "3.11.7"
  }
 },
 "nbformat": 4,
 "nbformat_minor": 5
}
